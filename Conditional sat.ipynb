{
 "cells": [
  {
   "cell_type": "code",
   "execution_count": null,
   "id": "0436306c-df09-42a4-9341-8b4cef7585ed",
   "metadata": {},
   "outputs": [],
   "source": [
    "#if else\n",
    "m=int(input(\"enter your marks\"))\n",
    "if (m>=90) and (m<=100):\n",
    "            print(\"90%\")\n",
    "elif (m>=70) and (m<=90):\n",
    "    print(\"80%\")\n",
    "elif (m>=60) and (m<=70):\n",
    "    print(\"first class\")\n",
    "elif(m>=35) and(m<=60):\n",
    "    print(\"you are pass\")\n",
    "else:\n",
    "    print(\"Invalid\")"
   ]
  },
  {
   "cell_type": "code",
   "execution_count": 9,
   "id": "66443307-fdec-43d3-8ac2-bfc30b472ae5",
   "metadata": {},
   "outputs": [
    {
     "name": "stdin",
     "output_type": "stream",
     "text": [
      "enter you login id admin\n",
      "enter your password hello123\n"
     ]
    },
    {
     "name": "stdout",
     "output_type": "stream",
     "text": [
      "wrong passsword\n"
     ]
    }
   ],
   "source": [
    "username=input(\"enter you login id\")\n",
    "password=input(\"enter your password\")\n",
    "if username==('admin')and password==('hello23'):\n",
    "    print(\"loged in\")\n",
    "else:\n",
    "    print(\"wrong passsword\")\n",
    "    \n"
   ]
  },
  {
   "cell_type": "code",
   "execution_count": 10,
   "id": "3439785e-313a-4233-af57-d40292abcba7",
   "metadata": {},
   "outputs": [
    {
     "name": "stdout",
     "output_type": "stream",
     "text": [
      "your name is om\n",
      "your name is sham\n",
      "your name is ram\n",
      "your name is ganesh\n"
     ]
    }
   ],
   "source": [
    "\n",
    "name=['om','sham','ram','ganesh']\n",
    "for i in name:\n",
    "    print(f'your name is {i}')"
   ]
  },
  {
   "cell_type": "code",
   "execution_count": 11,
   "id": "1fb890af-4f6e-4028-8ff5-d3b50e1ca754",
   "metadata": {},
   "outputs": [
    {
     "name": "stdout",
     "output_type": "stream",
     "text": [
      "*\n",
      "**\n",
      "***\n",
      "****\n",
      "*****\n"
     ]
    }
   ],
   "source": [
    "for i in range(1,6):\n",
    "     print('*'*i)"
   ]
  },
  {
   "cell_type": "code",
   "execution_count": 1,
   "id": "01c3e2b2-d615-4ceb-a0e5-447f01dcc5ee",
   "metadata": {},
   "outputs": [
    {
     "name": "stdout",
     "output_type": "stream",
     "text": [
      "0\n",
      "1\n",
      "2\n",
      "3\n",
      "4\n"
     ]
    }
   ],
   "source": [
    "for i in range(0,5):\n",
    "    print(i)"
   ]
  },
  {
   "cell_type": "code",
   "execution_count": 3,
   "id": "e68f761f-80f3-460d-9089-22deb964c946",
   "metadata": {},
   "outputs": [
    {
     "name": "stdout",
     "output_type": "stream",
     "text": [
      "6\n",
      "5\n",
      "4\n",
      "3\n",
      "2\n",
      "1\n"
     ]
    }
   ],
   "source": [
    "for i in range(6,0,-1):\n",
    "    print(i)"
   ]
  },
  {
   "cell_type": "code",
   "execution_count": 5,
   "id": "3cc4624d-4baa-411f-b888-541a6d5f2738",
   "metadata": {},
   "outputs": [
    {
     "name": "stdout",
     "output_type": "stream",
     "text": [
      "5\n",
      "7\n",
      "9\n",
      "11\n",
      "13\n",
      "15\n",
      "17\n"
     ]
    }
   ],
   "source": [
    "for i in range(5,18,2):\n",
    "    print(i)"
   ]
  },
  {
   "cell_type": "code",
   "execution_count": 6,
   "id": "08428e4a-f987-44f0-af16-1115ead2c599",
   "metadata": {},
   "outputs": [
    {
     "name": "stdout",
     "output_type": "stream",
     "text": [
      "0\n",
      "2\n",
      "4\n",
      "6\n",
      "8\n",
      "10\n",
      "12\n",
      "14\n",
      "16\n",
      "18\n",
      "20\n"
     ]
    }
   ],
   "source": [
    "for i in range(0,21,2):\n",
    "    print(i)"
   ]
  },
  {
   "cell_type": "code",
   "execution_count": 7,
   "id": "93fa8dbc-fc48-4c1a-b5c8-62cbc6adef40",
   "metadata": {},
   "outputs": [
    {
     "name": "stdout",
     "output_type": "stream",
     "text": [
      "\n",
      "*\n",
      "**\n",
      "***\n",
      "****\n"
     ]
    }
   ],
   "source": [
    "for i in range(0,5):\n",
    "    print('*'*i)"
   ]
  },
  {
   "cell_type": "code",
   "execution_count": 11,
   "id": "7615136a-ec4f-435f-89ff-3af33f7f34db",
   "metadata": {},
   "outputs": [
    {
     "name": "stdout",
     "output_type": "stream",
     "text": [
      "\n",
      "*\n",
      "**\n",
      "***\n",
      "****\n",
      "*****\n"
     ]
    }
   ],
   "source": [
    "for i in range(0,6):\n",
    "    print('*'*i)"
   ]
  },
  {
   "cell_type": "code",
   "execution_count": 12,
   "id": "7af8b6c4-68e9-4a1f-8ef4-09221d52aee1",
   "metadata": {},
   "outputs": [
    {
     "name": "stdout",
     "output_type": "stream",
     "text": [
      "*****\n",
      "****\n",
      "***\n",
      "**\n",
      "*\n"
     ]
    }
   ],
   "source": [
    "for i in range(5,0,-1):\n",
    "    print('*'*i)"
   ]
  },
  {
   "cell_type": "code",
   "execution_count": 13,
   "id": "8a98522e-4bbe-4262-b631-8807aa585d8e",
   "metadata": {},
   "outputs": [
    {
     "name": "stdout",
     "output_type": "stream",
     "text": [
      "\n",
      "$\n",
      "$$\n",
      "$$$\n",
      "$$$$\n",
      "$$$$$\n"
     ]
    }
   ],
   "source": [
    "for i in range(0,6,1):\n",
    "    print('$'*i)"
   ]
  },
  {
   "cell_type": "code",
   "execution_count": null,
   "id": "ef1f4e96-8a8b-4e51-a664-8b9b70966b33",
   "metadata": {},
   "outputs": [],
   "source": []
  }
 ],
 "metadata": {
  "kernelspec": {
   "display_name": "Python 3 (ipykernel)",
   "language": "python",
   "name": "python3"
  },
  "language_info": {
   "codemirror_mode": {
    "name": "ipython",
    "version": 3
   },
   "file_extension": ".py",
   "mimetype": "text/x-python",
   "name": "python",
   "nbconvert_exporter": "python",
   "pygments_lexer": "ipython3",
   "version": "3.13.2"
  }
 },
 "nbformat": 4,
 "nbformat_minor": 5
}
