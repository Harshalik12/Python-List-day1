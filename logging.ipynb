{
 "cells": [
  {
   "cell_type": "code",
   "execution_count": 5,
   "id": "447de212-414b-4d58-98ca-f3b955c4ff1f",
   "metadata": {},
   "outputs": [],
   "source": [
    "import logging\n"
   ]
  },
  {
   "cell_type": "code",
   "execution_count": 6,
   "id": "54ad1637-df50-41d6-80ae-23f751031166",
   "metadata": {},
   "outputs": [],
   "source": [
    "logging.basicConfig(filename='mylog23.log',\n",
    "                    level=logging.DEBUG,\n",
    "                    format='%(asctime)s -%(levelname)s -%(message)s')"
   ]
  },
  {
   "cell_type": "code",
   "execution_count": 9,
   "id": "81be0d5f-4ab1-4dbd-a973-e4c01397b57c",
   "metadata": {},
   "outputs": [],
   "source": [
    "logging.debug('This is my DEBUG Log')\n",
    "logging.info('This is my INFORMATION log')\n",
    "logging.warning('This is my warning log')"
   ]
  },
  {
   "cell_type": "code",
   "execution_count": 10,
   "id": "27490d5c-921d-4767-a84f-33141cca4036",
   "metadata": {},
   "outputs": [],
   "source": [
    "def divide(a,b):\n",
    "    try:\n",
    "        logging.info('Divide function started')\n",
    "        result=a/b\n",
    "        logging.info(f'Input of {a} and {b} having result of {result}')\n",
    "        return (result)\n",
    "    except Exception as e:\n",
    "        print(e)\n",
    "        logging.error('Error happend is divide function')\n",
    "        logging.error(e)\n",
    "        "
   ]
  },
  {
   "cell_type": "code",
   "execution_count": 11,
   "id": "fd3b1e9b-f631-4991-ae05-2f25916bf226",
   "metadata": {},
   "outputs": [
    {
     "data": {
      "text/plain": [
       "2.0"
      ]
     },
     "execution_count": 11,
     "metadata": {},
     "output_type": "execute_result"
    }
   ],
   "source": [
    "divide(10,5)"
   ]
  },
  {
   "cell_type": "code",
   "execution_count": 12,
   "id": "a77cdd2c-72b4-4c14-8e15-6668961824a6",
   "metadata": {},
   "outputs": [
    {
     "name": "stdout",
     "output_type": "stream",
     "text": [
      "division by zero\n"
     ]
    }
   ],
   "source": [
    "divide(3,0)"
   ]
  },
  {
   "cell_type": "code",
   "execution_count": 13,
   "id": "811cfd2b-303b-4b2c-a346-3203c7d17b4d",
   "metadata": {},
   "outputs": [],
   "source": [
    "logging.shutdown()"
   ]
  },
  {
   "cell_type": "code",
   "execution_count": 14,
   "id": "fa5e495a-06fa-463f-808e-4a7232bf0673",
   "metadata": {},
   "outputs": [],
   "source": [
    "import logging"
   ]
  },
  {
   "cell_type": "code",
   "execution_count": 16,
   "id": "72d6733b-9006-4dac-af06-4b39b4173661",
   "metadata": {},
   "outputs": [],
   "source": [
    "logging.basicConfig(\n",
    "    filename='mylog23.log',\n",
    "    level=logging.DEBUG,\n",
    "    format='%(asctime)s -%(levelname)s -%(message)s')\n"
   ]
  },
  {
   "cell_type": "code",
   "execution_count": 17,
   "id": "bb79ca6e-d0d3-4b46-b609-6e33b9b53688",
   "metadata": {},
   "outputs": [],
   "source": [
    "logging.debug('This is my DEBUG Log')\n",
    "logging.info('This is my INFORMATION log')\n",
    "logging.warning('This is my warning log')"
   ]
  },
  {
   "cell_type": "code",
   "execution_count": 18,
   "id": "8466d8ed-3062-4de0-85db-f24400beaed5",
   "metadata": {},
   "outputs": [],
   "source": [
    "def mul(a,b):\n",
    "    try:\n",
    "        logging.info('multiplication function started')\n",
    "        result=a*b\n",
    "        logging.info(f'Input of {a} and {b} having result of {result}')\n",
    "        return (result)\n",
    "    except Exception as e:\n",
    "        print(e)\n",
    "        logging.error('Error happend is multiplication function')\n",
    "        logging.error(e)\n",
    "        "
   ]
  },
  {
   "cell_type": "code",
   "execution_count": 19,
   "id": "0982d3e2-6d90-47d8-b503-7a4d01e1d18f",
   "metadata": {},
   "outputs": [
    {
     "data": {
      "text/plain": [
       "45"
      ]
     },
     "execution_count": 19,
     "metadata": {},
     "output_type": "execute_result"
    }
   ],
   "source": [
    "mul(5,9)"
   ]
  },
  {
   "cell_type": "code",
   "execution_count": 20,
   "id": "9fc36f7f-fa94-4cb4-a40a-40f8181b2d35",
   "metadata": {},
   "outputs": [
    {
     "data": {
      "text/plain": [
       "0"
      ]
     },
     "execution_count": 20,
     "metadata": {},
     "output_type": "execute_result"
    }
   ],
   "source": [
    "mul(5,0)"
   ]
  },
  {
   "cell_type": "code",
   "execution_count": 22,
   "id": "dcb7e6d0-52e7-4a03-b0fc-52b9f9d75c98",
   "metadata": {},
   "outputs": [],
   "source": [
    "logging.shutdown()"
   ]
  },
  {
   "cell_type": "code",
   "execution_count": 23,
   "id": "8fbf2cf3-340f-46f3-9112-586447e5ef40",
   "metadata": {},
   "outputs": [],
   "source": [
    "import logging"
   ]
  },
  {
   "cell_type": "code",
   "execution_count": 25,
   "id": "739f042b-c4dc-4e0c-8605-912efaf7ff6f",
   "metadata": {},
   "outputs": [],
   "source": [
    "logging.basicConfig(\n",
    "    filename='mylog23.log',\n",
    "    level=logging.DEBUG,\n",
    "    format='%(asctime)s -%(levelname)s -%(message)s')\n"
   ]
  },
  {
   "cell_type": "code",
   "execution_count": 26,
   "id": "06555b05-ae82-4b88-bc29-a8ca21b30886",
   "metadata": {},
   "outputs": [],
   "source": [
    "logging.debug('This is my DEBUG Log')\n",
    "logging.info('This is my INFORMATION log')\n",
    "logging.warning('This is my warning log')"
   ]
  },
  {
   "cell_type": "code",
   "execution_count": 29,
   "id": "e78bbb47-75c4-4481-bbc7-78cf7ade621d",
   "metadata": {},
   "outputs": [],
   "source": [
    "def add(a,b):\n",
    "    try:\n",
    "        logging.info('Addition function started')\n",
    "        result=a+b\n",
    "        logging.info(f'Input of {a} and {b} having result of {result}')\n",
    "        return (result)\n",
    "    except Exception as e:\n",
    "        print(e)\n",
    "        logging.error('Error happend is addition function')\n",
    "        logging.error(e)"
   ]
  },
  {
   "cell_type": "code",
   "execution_count": 31,
   "id": "2886c1f4-da1d-4b32-8f1f-8594400b4bc4",
   "metadata": {},
   "outputs": [
    {
     "data": {
      "text/plain": [
       "99"
      ]
     },
     "execution_count": 31,
     "metadata": {},
     "output_type": "execute_result"
    }
   ],
   "source": [
    "add(44,55)"
   ]
  },
  {
   "cell_type": "code",
   "execution_count": 4,
   "id": "4488451f-d0f3-4bc0-ad67-376beae0b8ce",
   "metadata": {},
   "outputs": [],
   "source": [
    "def addd(a,b):\n",
    "    try:\n",
    "        logging.info('Addition function started')\n",
    "        ressult=a+b\n",
    "        logging.info(f'Input of{a} and {b} having result of{result}')\n",
    "        return(result)\n",
    "    except Exception as e:\n",
    "        print(e)\n",
    "        logging.error('Error happend is addition function')\n",
    "        logging.error(e)"
   ]
  },
  {
   "cell_type": "code",
   "execution_count": 5,
   "id": "cca66a18-7873-48c8-9e0c-81306bb605ad",
   "metadata": {},
   "outputs": [],
   "source": [
    "def mul(a,b):\n",
    "    try:\n",
    "        logging.info('multiple function started')\n",
    "        result=a*b\n",
    "        logging.info(f'Input of {a} and {b} having result of {result}')\n",
    "        return(result)\n",
    "    except Exception as e:\n",
    "        print(e)\n",
    "        logging.error('Error happened is multiplication function')\n",
    "        logging.error(e)\n"
   ]
  },
  {
   "cell_type": "code",
   "execution_count": 11,
   "id": "f42ab8e4-e415-4583-bae3-6a69ddc96e52",
   "metadata": {},
   "outputs": [],
   "source": [
    "def divide(a,b):\n",
    "    try:\n",
    "        logging.info('Addition function started')\n",
    "        result=a*b\n",
    "        logging.info(f'Input of {a} and {b} having result of {result}')\n",
    "        return(result)\n",
    "    except Exception as e:\n",
    "        print(e)\n",
    "        logging.error('Error happend is multiplication function')\n",
    "        logging.error(e)\n",
    "    "
   ]
  },
  {
   "cell_type": "code",
   "execution_count": null,
   "id": "fb78ee0b-b841-4b57-802b-a72164f51c6a",
   "metadata": {},
   "outputs": [],
   "source": []
  }
 ],
 "metadata": {
  "kernelspec": {
   "display_name": "Python 3 (ipykernel)",
   "language": "python",
   "name": "python3"
  },
  "language_info": {
   "codemirror_mode": {
    "name": "ipython",
    "version": 3
   },
   "file_extension": ".py",
   "mimetype": "text/x-python",
   "name": "python",
   "nbconvert_exporter": "python",
   "pygments_lexer": "ipython3",
   "version": "3.13.2"
  }
 },
 "nbformat": 4,
 "nbformat_minor": 5
}
