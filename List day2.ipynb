{
 "cells": [
  {
   "cell_type": "code",
   "execution_count": null,
   "id": "bbfadbc9-8143-4557-b165-0ef7638bd937",
   "metadata": {},
   "outputs": [],
   "source": [
    "## nested llist\n",
    "l=[1,2,3,4,[10,20,30],5,6,7]\n",
    "l[0]"
   ]
  },
  {
   "cell_type": "markdown",
   "id": "42f7aab6-aeba-4f6a-a00b-5d2223a7eee2",
   "metadata": {},
   "source": [
    "# "
   ]
  },
  {
   "cell_type": "code",
   "execution_count": 3,
   "id": "795fc520-ef78-4749-8441-dc89d7cb595d",
   "metadata": {},
   "outputs": [
    {
     "data": {
      "text/plain": [
       "2"
      ]
     },
     "execution_count": 3,
     "metadata": {},
     "output_type": "execute_result"
    }
   ],
   "source": [
    "l[1]## for number in bracket"
   ]
  },
  {
   "cell_type": "code",
   "execution_count": 4,
   "id": "2315127d-1109-4c71-b7a4-a4d7b4f4689d",
   "metadata": {},
   "outputs": [
    {
     "data": {
      "text/plain": [
       "20"
      ]
     },
     "execution_count": 4,
     "metadata": {},
     "output_type": "execute_result"
    }
   ],
   "source": [
    "l[4][1]## for number from the double bracket"
   ]
  },
  {
   "cell_type": "code",
   "execution_count": 6,
   "id": "eb032566-494e-4cad-83ad-e8e97baf013d",
   "metadata": {},
   "outputs": [
    {
     "data": {
      "text/plain": [
       "30"
      ]
     },
     "execution_count": 6,
     "metadata": {},
     "output_type": "execute_result"
    }
   ],
   "source": [
    "l[4][2]"
   ]
  },
  {
   "cell_type": "code",
   "execution_count": 8,
   "id": "bef2ba36-3ec4-443b-b372-69235b2a22f1",
   "metadata": {},
   "outputs": [
    {
     "data": {
      "text/plain": [
       "5"
      ]
     },
     "execution_count": 8,
     "metadata": {},
     "output_type": "execute_result"
    }
   ],
   "source": [
    "l2=[1,2,3,[4,[10,20,30],40],5]\n",
    "l2[4]"
   ]
  },
  {
   "cell_type": "code",
   "execution_count": 9,
   "id": "6e3a90f2-8a8d-474a-89ad-b85285aeb9c8",
   "metadata": {},
   "outputs": [
    {
     "data": {
      "text/plain": [
       "[4, [10, 20, 30], 40]"
      ]
     },
     "execution_count": 9,
     "metadata": {},
     "output_type": "execute_result"
    }
   ],
   "source": [
    "l2[3]"
   ]
  },
  {
   "cell_type": "code",
   "execution_count": 13,
   "id": "e3bdf6ed-40a8-4bf0-b7bf-695d57e57f3e",
   "metadata": {},
   "outputs": [
    {
     "data": {
      "text/plain": [
       "10"
      ]
     },
     "execution_count": 13,
     "metadata": {},
     "output_type": "execute_result"
    }
   ],
   "source": [
    "l2[3][1][0]"
   ]
  },
  {
   "cell_type": "code",
   "execution_count": 14,
   "id": "b194059c-194e-45c3-ab77-30007207d287",
   "metadata": {},
   "outputs": [
    {
     "data": {
      "text/plain": [
       "[4, [10, 20, 30], 40]"
      ]
     },
     "execution_count": 14,
     "metadata": {},
     "output_type": "execute_result"
    }
   ],
   "source": [
    "l2[3]"
   ]
  },
  {
   "cell_type": "code",
   "execution_count": 15,
   "id": "53185fa3-0eff-41f6-ba00-1a3b35397e29",
   "metadata": {},
   "outputs": [
    {
     "data": {
      "text/plain": [
       "[10, 20, 30]"
      ]
     },
     "execution_count": 15,
     "metadata": {},
     "output_type": "execute_result"
    }
   ],
   "source": [
    "l2[3][1]"
   ]
  },
  {
   "cell_type": "code",
   "execution_count": 16,
   "id": "d2171b9d-8f79-4f44-90e9-fbbb057097ed",
   "metadata": {},
   "outputs": [],
   "source": [
    "## function\n",
    "a=[1,2,3,4]"
   ]
  },
  {
   "cell_type": "code",
   "execution_count": 17,
   "id": "464d9f12-5765-43ba-ac08-2854512bacd1",
   "metadata": {},
   "outputs": [],
   "source": [
    "a.append(12)"
   ]
  },
  {
   "cell_type": "code",
   "execution_count": 18,
   "id": "86e78180-1189-49bf-a3de-4e12b676bd2e",
   "metadata": {},
   "outputs": [
    {
     "data": {
      "text/plain": [
       "[1, 2, 3, 4, 12]"
      ]
     },
     "execution_count": 18,
     "metadata": {},
     "output_type": "execute_result"
    }
   ],
   "source": [
    "a"
   ]
  },
  {
   "cell_type": "code",
   "execution_count": 19,
   "id": "6402122d-0573-485b-a36e-4287272b766f",
   "metadata": {},
   "outputs": [
    {
     "data": {
      "text/plain": [
       "[1, 2, 3, 4, 5, 7, 8]"
      ]
     },
     "execution_count": 19,
     "metadata": {},
     "output_type": "execute_result"
    }
   ],
   "source": [
    "a=[1,2,3,4,5]\n",
    "a.extend([7,8])\n",
    "a"
   ]
  },
  {
   "cell_type": "code",
   "execution_count": 20,
   "id": "e515a960-76f0-436c-a786-221e8a68f2c3",
   "metadata": {},
   "outputs": [
    {
     "data": {
      "text/plain": [
       "[1, 2, 3, 4, 5, 7, 8, 'h', 'e', 'l', 'l', 'o']"
      ]
     },
     "execution_count": 20,
     "metadata": {},
     "output_type": "execute_result"
    }
   ],
   "source": [
    "a.extend('hello')\n",
    "a"
   ]
  },
  {
   "cell_type": "code",
   "execution_count": 21,
   "id": "4cd500cc-e105-4cb8-8d63-415f6875b371",
   "metadata": {},
   "outputs": [
    {
     "data": {
      "text/plain": [
       "[1, 2, 3, 4, 5, 7, 8, 'h', 'e', 'l', 'l', 'o', 'hello']"
      ]
     },
     "execution_count": 21,
     "metadata": {},
     "output_type": "execute_result"
    }
   ],
   "source": [
    "a.append('hello')\n",
    "a"
   ]
  },
  {
   "cell_type": "code",
   "execution_count": 23,
   "id": "f169c23f-020b-4a51-b01a-b36c399790d2",
   "metadata": {},
   "outputs": [
    {
     "data": {
      "text/plain": [
       "[1, 200, 2, 3, 4, 5, 7, 8, 'h', 'e', 'l', 'l', 'o', 'hello']"
      ]
     },
     "execution_count": 23,
     "metadata": {},
     "output_type": "execute_result"
    }
   ],
   "source": [
    "##inserting \n",
    "a=[1, 2, 3, 4, 5, 7, 8, 'h', 'e', 'l', 'l', 'o', 'hello']\n",
    "a.insert(1,200)\n",
    "a"
   ]
  },
  {
   "cell_type": "code",
   "execution_count": 26,
   "id": "94bbb22c-d677-4f20-af37-724354b18f41",
   "metadata": {},
   "outputs": [
    {
     "data": {
      "text/plain": [
       "[1, 2, 3, 4, 7, 8, 'h', 'e', 'l', 'l', 'o', 'hello']"
      ]
     },
     "execution_count": 26,
     "metadata": {},
     "output_type": "execute_result"
    }
   ],
   "source": [
    "##remove\n",
    "a=[1, 2, 3, 4, 5, 7, 8, 'h', 'e', 'l', 'l', 'o', 'hello']\n",
    "a.remove(5)\n",
    "a"
   ]
  },
  {
   "cell_type": "code",
   "execution_count": 29,
   "id": "70f6c2f4-166d-44f3-a748-a63ae163b044",
   "metadata": {},
   "outputs": [
    {
     "data": {
      "text/plain": [
       "[1, 2, 3, 8, 'h', 'e', 'l', 'l', 'o', 'hello']"
      ]
     },
     "execution_count": 29,
     "metadata": {},
     "output_type": "execute_result"
    }
   ],
   "source": [
    "a.remove(4)\n",
    "a"
   ]
  },
  {
   "cell_type": "code",
   "execution_count": 33,
   "id": "3bd2b58f-9142-430a-a3e8-4ce4f27bb619",
   "metadata": {},
   "outputs": [
    {
     "data": {
      "text/plain": [
       "[1, 2, 3, 4, 7, 8, 'h', 'e', 'l', 'l', 'o', 'hello']"
      ]
     },
     "execution_count": 33,
     "metadata": {},
     "output_type": "execute_result"
    }
   ],
   "source": [
    "##pop\n",
    "a=[1, 2, 3, 4, 5, 7, 8, 'h', 'e', 'l', 'l', 'o', 'hello']\n",
    "a.pop(4)\n",
    "a"
   ]
  },
  {
   "cell_type": "code",
   "execution_count": 34,
   "id": "d517b6af-581b-47f4-8096-d9cd90c501e1",
   "metadata": {},
   "outputs": [],
   "source": [
    "##copy\n",
    "data=[1,2,3,4,5,6]\n",
    "data_2=data"
   ]
  },
  {
   "cell_type": "code",
   "execution_count": 35,
   "id": "23a58ee3-81c5-4915-817e-33b86fa6856b",
   "metadata": {},
   "outputs": [
    {
     "data": {
      "text/plain": [
       "[1, 2, 3, 4, 5, 6]"
      ]
     },
     "execution_count": 35,
     "metadata": {},
     "output_type": "execute_result"
    }
   ],
   "source": [
    "data_2"
   ]
  },
  {
   "cell_type": "code",
   "execution_count": 36,
   "id": "5115d5b3-05a9-448c-93b9-3d8e82fee883",
   "metadata": {},
   "outputs": [
    {
     "data": {
      "text/plain": [
       "[1, 200, 3, 4, 5, 6]"
      ]
     },
     "execution_count": 36,
     "metadata": {},
     "output_type": "execute_result"
    }
   ],
   "source": [
    "data[1]=200\n",
    "data"
   ]
  },
  {
   "cell_type": "code",
   "execution_count": 37,
   "id": "62e32500-390d-4854-a2b1-7cc5f1233374",
   "metadata": {},
   "outputs": [
    {
     "data": {
      "text/plain": [
       "[1, 200, 3, 4, 5, 6]"
      ]
     },
     "execution_count": 37,
     "metadata": {},
     "output_type": "execute_result"
    }
   ],
   "source": [
    "data_2\n"
   ]
  },
  {
   "cell_type": "code",
   "execution_count": 38,
   "id": "4c029aaf-7ddd-441b-a27d-eaf35bc03320",
   "metadata": {},
   "outputs": [],
   "source": [
    "data_copy=data.copy()"
   ]
  },
  {
   "cell_type": "code",
   "execution_count": 42,
   "id": "9856b4a1-ac49-4beb-9f35-4e9ecdd1be1d",
   "metadata": {},
   "outputs": [
    {
     "ename": "AttributeError",
     "evalue": "'tuple' object has no attribute 'coount'",
     "output_type": "error",
     "traceback": [
      "\u001b[31m---------------------------------------------------------------------------\u001b[39m",
      "\u001b[31mAttributeError\u001b[39m                            Traceback (most recent call last)",
      "\u001b[36mCell\u001b[39m\u001b[36m \u001b[39m\u001b[32mIn[42]\u001b[39m\u001b[32m, line 3\u001b[39m\n\u001b[32m      1\u001b[39m \u001b[38;5;66;03m##tuple\u001b[39;00m\n\u001b[32m      2\u001b[39m t=(\u001b[32m0\u001b[39m,\u001b[32m1\u001b[39m,\u001b[32m2\u001b[39m,\u001b[32m3\u001b[39m,\u001b[32m4\u001b[39m,\u001b[32m5\u001b[39m)\n\u001b[32m----> \u001b[39m\u001b[32m3\u001b[39m \u001b[43mt\u001b[49m\u001b[43m.\u001b[49m\u001b[43mcoount\u001b[49m()\n",
      "\u001b[31mAttributeError\u001b[39m: 'tuple' object has no attribute 'coount'"
     ]
    }
   ],
   "source": []
  },
  {
   "cell_type": "code",
   "execution_count": 43,
   "id": "82e8bed5-c730-4976-9227-5971c1fc4bd3",
   "metadata": {},
   "outputs": [
    {
     "data": {
      "text/plain": [
       "[1, 2, 3, 4, 5]"
      ]
     },
     "execution_count": 43,
     "metadata": {},
     "output_type": "execute_result"
    }
   ],
   "source": [
    "t=(1,2,3,4,5)\n",
    "list(t)"
   ]
  },
  {
   "cell_type": "code",
   "execution_count": 44,
   "id": "37f5d64e-f389-467d-b5a7-f26d3255f357",
   "metadata": {},
   "outputs": [
    {
     "data": {
      "text/plain": [
       "(1, 2, 3, 4, 5)"
      ]
     },
     "execution_count": 44,
     "metadata": {},
     "output_type": "execute_result"
    }
   ],
   "source": [
    "tuple(t)"
   ]
  },
  {
   "cell_type": "code",
   "execution_count": 45,
   "id": "edb1c00b-e82e-4517-9b81-be3c9fa4883f",
   "metadata": {},
   "outputs": [
    {
     "data": {
      "text/plain": [
       "[1, 2, 3, 4, 5]"
      ]
     },
     "execution_count": 45,
     "metadata": {},
     "output_type": "execute_result"
    }
   ],
   "source": [
    "list(t)"
   ]
  },
  {
   "cell_type": "code",
   "execution_count": 47,
   "id": "1f2e2ad7-5f69-4e14-97ca-7ab6dbbaaf5f",
   "metadata": {},
   "outputs": [
    {
     "ename": "AttributeError",
     "evalue": "'tuple' object has no attribute 'append'",
     "output_type": "error",
     "traceback": [
      "\u001b[31m---------------------------------------------------------------------------\u001b[39m",
      "\u001b[31mAttributeError\u001b[39m                            Traceback (most recent call last)",
      "\u001b[36mCell\u001b[39m\u001b[36m \u001b[39m\u001b[32mIn[47]\u001b[39m\u001b[32m, line 1\u001b[39m\n\u001b[32m----> \u001b[39m\u001b[32m1\u001b[39m \u001b[43mt\u001b[49m\u001b[43m.\u001b[49m\u001b[43mappend\u001b[49m(\u001b[33m'\u001b[39m\u001b[33mhello\u001b[39m\u001b[33m'\u001b[39m)\n\u001b[32m      2\u001b[39m t\n",
      "\u001b[31mAttributeError\u001b[39m: 'tuple' object has no attribute 'append'"
     ]
    }
   ],
   "source": [
    "t.append('hello')\n",
    "t"
   ]
  },
  {
   "cell_type": "code",
   "execution_count": 49,
   "id": "84692280-9ed7-4881-91df-4d25a6e85227",
   "metadata": {},
   "outputs": [
    {
     "data": {
      "text/plain": [
       "[5]"
      ]
     },
     "execution_count": 49,
     "metadata": {},
     "output_type": "execute_result"
    }
   ],
   "source": [
    "a=[1, 2, 3, 4, 5]\n",
    "a[-1:]"
   ]
  },
  {
   "cell_type": "code",
   "execution_count": 50,
   "id": "53966005-fefc-40aa-b8f0-08602905814c",
   "metadata": {},
   "outputs": [
    {
     "data": {
      "text/plain": [
       "[]"
      ]
     },
     "execution_count": 50,
     "metadata": {},
     "output_type": "execute_result"
    }
   ],
   "source": [
    "a[-1:0]"
   ]
  },
  {
   "cell_type": "code",
   "execution_count": 51,
   "id": "f83711c1-d6e5-41d6-ad59-67f69bac0703",
   "metadata": {},
   "outputs": [
    {
     "data": {
      "text/plain": [
       "[10, 20, 30, [100, 200, 300], 40]"
      ]
     },
     "execution_count": 51,
     "metadata": {},
     "output_type": "execute_result"
    }
   ],
   "source": [
    "l2=[1,2,3,4,[10,20,30,[100,200,[10000,200000,40000]300],40],5]\n",
    "l2[4]"
   ]
  },
  {
   "cell_type": "code",
   "execution_count": 52,
   "id": "c2df9d14-1291-408f-bb87-228ebf41ff66",
   "metadata": {},
   "outputs": [
    {
     "data": {
      "text/plain": [
       "10"
      ]
     },
     "execution_count": 52,
     "metadata": {},
     "output_type": "execute_result"
    }
   ],
   "source": [
    "l2[4][0]"
   ]
  },
  {
   "cell_type": "code",
   "execution_count": 53,
   "id": "cc1f6a09-ef91-4692-ad96-2a19c292734b",
   "metadata": {},
   "outputs": [
    {
     "data": {
      "text/plain": [
       "300"
      ]
     },
     "execution_count": 53,
     "metadata": {},
     "output_type": "execute_result"
    }
   ],
   "source": [
    "l2[4][3][2]"
   ]
  },
  {
   "cell_type": "code",
   "execution_count": 55,
   "id": "8d9751c4-9efa-42a3-b36b-d175278f37c1",
   "metadata": {},
   "outputs": [
    {
     "ename": "TypeError",
     "evalue": "'int' object is not subscriptable",
     "output_type": "error",
     "traceback": [
      "\u001b[31m---------------------------------------------------------------------------\u001b[39m",
      "\u001b[31mTypeError\u001b[39m                                 Traceback (most recent call last)",
      "\u001b[36mCell\u001b[39m\u001b[36m \u001b[39m\u001b[32mIn[55]\u001b[39m\u001b[32m, line 1\u001b[39m\n\u001b[32m----> \u001b[39m\u001b[32m1\u001b[39m \u001b[43ml2\u001b[49m\u001b[43m[\u001b[49m\u001b[32;43m4\u001b[39;49m\u001b[43m]\u001b[49m\u001b[43m[\u001b[49m\u001b[32;43m3\u001b[39;49m\u001b[43m]\u001b[49m\u001b[43m[\u001b[49m\u001b[32;43m2\u001b[39;49m\u001b[43m]\u001b[49m\u001b[43m[\u001b[49m\u001b[32;43m1\u001b[39;49m\u001b[43m]\u001b[49m\n",
      "\u001b[31mTypeError\u001b[39m: 'int' object is not subscriptable"
     ]
    }
   ],
   "source": [
    "l2[4][3][2][1]"
   ]
  },
  {
   "cell_type": "code",
   "execution_count": 1,
   "id": "0e8b0c56-cc00-40ee-9c7d-ea8ef66a4f3c",
   "metadata": {},
   "outputs": [
    {
     "data": {
      "text/plain": [
       "{1, 2, 3, 4, 5, 6, 7, 8, 9}"
      ]
     },
     "execution_count": 1,
     "metadata": {},
     "output_type": "execute_result"
    }
   ],
   "source": [
    "#set\n",
    "s={1,2,3,4,5,5,6,7,8,8,8,9,1,2,3,3,4}\n",
    "s\n"
   ]
  },
  {
   "cell_type": "markdown",
   "id": "35d7efa3-1718-4a57-8be5-f85630ded2d8",
   "metadata": {},
   "source": [
    "# "
   ]
  },
  {
   "cell_type": "code",
   "execution_count": 3,
   "id": "385c4866-7088-48bc-b00c-6cd35f1477ba",
   "metadata": {},
   "outputs": [
    {
     "data": {
      "text/plain": [
       "{4}"
      ]
     },
     "execution_count": 3,
     "metadata": {},
     "output_type": "execute_result"
    }
   ],
   "source": [
    "set1={1,2,4,3}\n",
    "set2={4,5,6}\n",
    "set1.intersection(set2)"
   ]
  },
  {
   "cell_type": "code",
   "execution_count": 4,
   "id": "a40d114f-42b4-4391-aa32-560a9594a5b1",
   "metadata": {},
   "outputs": [
    {
     "data": {
      "text/plain": [
       "{1, 2, 3, 4, 5, 6}"
      ]
     },
     "execution_count": 4,
     "metadata": {},
     "output_type": "execute_result"
    }
   ],
   "source": [
    "set1.union(set2)"
   ]
  },
  {
   "cell_type": "code",
   "execution_count": 5,
   "id": "a659629b-3931-4849-b03b-25c8851a5670",
   "metadata": {},
   "outputs": [
    {
     "data": {
      "text/plain": [
       "{1, 2, 3}"
      ]
     },
     "execution_count": 5,
     "metadata": {},
     "output_type": "execute_result"
    }
   ],
   "source": [
    "set1.difference(set2)"
   ]
  },
  {
   "cell_type": "code",
   "execution_count": 8,
   "id": "73ddf5bb-6df2-4ef5-afa6-645190a13f66",
   "metadata": {},
   "outputs": [
    {
     "data": {
      "text/plain": [
       "{5, 6}"
      ]
     },
     "execution_count": 8,
     "metadata": {},
     "output_type": "execute_result"
    }
   ],
   "source": [
    "set2.difference(set1)"
   ]
  },
  {
   "cell_type": "code",
   "execution_count": 11,
   "id": "91407417-a8d3-447a-8b06-c6bc514163e9",
   "metadata": {},
   "outputs": [],
   "source": [
    "##dictionary\n",
    "d={'a':10,'b':20,'c':30}"
   ]
  },
  {
   "cell_type": "code",
   "execution_count": 27,
   "id": "bd633d6c-c763-4bc1-908b-641e2aeceb6f",
   "metadata": {},
   "outputs": [
    {
     "data": {
      "text/plain": [
       "30"
      ]
     },
     "execution_count": 27,
     "metadata": {},
     "output_type": "execute_result"
    }
   ],
   "source": [
    "d.keys()\n",
    "d['b']\n",
    "d['c']"
   ]
  },
  {
   "cell_type": "code",
   "execution_count": 13,
   "id": "fba6c1a0-095f-4c63-8c49-4c04e172eb22",
   "metadata": {},
   "outputs": [
    {
     "data": {
      "text/plain": [
       "dict_values([10, 20, 30])"
      ]
     },
     "execution_count": 13,
     "metadata": {},
     "output_type": "execute_result"
    }
   ],
   "source": [
    "d.values()"
   ]
  },
  {
   "cell_type": "code",
   "execution_count": 14,
   "id": "3295df54-82f3-4fd4-8b2a-b0d924ba9b9f",
   "metadata": {},
   "outputs": [
    {
     "data": {
      "text/plain": [
       "20"
      ]
     },
     "execution_count": 14,
     "metadata": {},
     "output_type": "execute_result"
    }
   ],
   "source": [
    "d['b']"
   ]
  },
  {
   "cell_type": "code",
   "execution_count": 15,
   "id": "8de22356-0e75-4ff0-b185-0918a70c5948",
   "metadata": {},
   "outputs": [
    {
     "data": {
      "text/plain": [
       "10"
      ]
     },
     "execution_count": 15,
     "metadata": {},
     "output_type": "execute_result"
    }
   ],
   "source": [
    "d['a']"
   ]
  },
  {
   "cell_type": "code",
   "execution_count": 20,
   "id": "6bfd99c4-7fe0-4d4f-8ecb-02fde8780324",
   "metadata": {},
   "outputs": [
    {
     "data": {
      "text/plain": [
       "{'name': 'harshali', 'age': '20', 'gender': 'female'}"
      ]
     },
     "execution_count": 20,
     "metadata": {},
     "output_type": "execute_result"
    }
   ],
   "source": [
    "d1={'name':'harshali','age':'20','gender':'female'}\n",
    "d1"
   ]
  },
  {
   "cell_type": "code",
   "execution_count": 22,
   "id": "0e9ad9dc-29ab-4ba5-9ce8-d7e89cd4724e",
   "metadata": {},
   "outputs": [
    {
     "data": {
      "text/plain": [
       "{'name': ['hello', 'python', 'data'], 'age': (1, 2, 3, 4)}"
      ]
     },
     "execution_count": 22,
     "metadata": {},
     "output_type": "execute_result"
    }
   ],
   "source": [
    "mix={'name':['hello','python','data'],'age':(1,2,3,4)}\n",
    "mix"
   ]
  },
  {
   "cell_type": "code",
   "execution_count": 28,
   "id": "10b9563a-7cae-4856-ae42-c4cb8a03d562",
   "metadata": {},
   "outputs": [
    {
     "data": {
      "text/plain": [
       "'13'"
      ]
     },
     "execution_count": 28,
     "metadata": {},
     "output_type": "execute_result"
    }
   ],
   "source": [
    "d={'a':'12','b':'13','c':'323','e':'23'}\n",
    "d['b']\n",
    "\n"
   ]
  },
  {
   "cell_type": "code",
   "execution_count": 29,
   "id": "91c4c478-a389-4dd4-a01b-eed58f49b4df",
   "metadata": {},
   "outputs": [
    {
     "data": {
      "text/plain": [
       "'12'"
      ]
     },
     "execution_count": 29,
     "metadata": {},
     "output_type": "execute_result"
    }
   ],
   "source": [
    "d['a']"
   ]
  },
  {
   "cell_type": "code",
   "execution_count": 30,
   "id": "38f4c9c8-4c22-4b7c-bc0f-3eeb981c1d48",
   "metadata": {},
   "outputs": [
    {
     "data": {
      "text/plain": [
       "'12'"
      ]
     },
     "execution_count": 30,
     "metadata": {},
     "output_type": "execute_result"
    }
   ],
   "source": [
    "\n",
    "d['a']"
   ]
  },
  {
   "cell_type": "code",
   "execution_count": 31,
   "id": "e03c003f-033f-4c5f-a3a6-984d09a37301",
   "metadata": {},
   "outputs": [
    {
     "data": {
      "text/plain": [
       "'323'"
      ]
     },
     "execution_count": 31,
     "metadata": {},
     "output_type": "execute_result"
    }
   ],
   "source": [
    "d['c']"
   ]
  },
  {
   "cell_type": "code",
   "execution_count": 33,
   "id": "7ee658e1-130d-4568-ba47-a34a421f2487",
   "metadata": {},
   "outputs": [
    {
     "data": {
      "text/plain": [
       "'23'"
      ]
     },
     "execution_count": 33,
     "metadata": {},
     "output_type": "execute_result"
    }
   ],
   "source": [
    "d['e']"
   ]
  },
  {
   "cell_type": "code",
   "execution_count": null,
   "id": "6e218ed9-ff20-494b-ac23-5023d3d96e15",
   "metadata": {},
   "outputs": [],
   "source": []
  },
  {
   "cell_type": "code",
   "execution_count": null,
   "id": "73d6c7fa-bb2c-4513-9601-af7775e5240c",
   "metadata": {},
   "outputs": [],
   "source": []
  }
 ],
 "metadata": {
  "kernelspec": {
   "display_name": "Python 3 (ipykernel)",
   "language": "python",
   "name": "python3"
  },
  "language_info": {
   "codemirror_mode": {
    "name": "ipython",
    "version": 3
   },
   "file_extension": ".py",
   "mimetype": "text/x-python",
   "name": "python",
   "nbconvert_exporter": "python",
   "pygments_lexer": "ipython3",
   "version": "3.13.2"
  }
 },
 "nbformat": 4,
 "nbformat_minor": 5
}
