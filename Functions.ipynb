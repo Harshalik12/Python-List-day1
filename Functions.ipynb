{
 "cells": [
  {
   "cell_type": "code",
   "execution_count": 1,
   "id": "9a038cb2-7816-4002-8e94-75f6f924f895",
   "metadata": {},
   "outputs": [],
   "source": [
    "def test(a,b,c):\n",
    "    return a,b,c\n"
   ]
  },
  {
   "cell_type": "code",
   "execution_count": 2,
   "id": "b727a4ba-139e-4bf7-b877-a66b38b3787a",
   "metadata": {},
   "outputs": [
    {
     "data": {
      "text/plain": [
       "(1, 2, 3)"
      ]
     },
     "execution_count": 2,
     "metadata": {},
     "output_type": "execute_result"
    }
   ],
   "source": [
    "test(1,2,3)"
   ]
  },
  {
   "cell_type": "code",
   "execution_count": 3,
   "id": "1410841e-baaf-43a5-a2be-3706f91d7a77",
   "metadata": {},
   "outputs": [],
   "source": [
    "def test2(*args):\n",
    "    return args"
   ]
  },
  {
   "cell_type": "code",
   "execution_count": 4,
   "id": "b1b6b13c-0c69-4b72-bc61-ce0b97083ec0",
   "metadata": {},
   "outputs": [
    {
     "data": {
      "text/plain": [
       "(1, 2, 3, 5, 5)"
      ]
     },
     "execution_count": 4,
     "metadata": {},
     "output_type": "execute_result"
    }
   ],
   "source": [
    "test2(1,2,3,5,5)"
   ]
  },
  {
   "cell_type": "code",
   "execution_count": 5,
   "id": "539fe47c-a088-4d2e-9cec-e2c96c9b728d",
   "metadata": {},
   "outputs": [],
   "source": [
    "def test2(a,*args):\n",
    "    return args"
   ]
  },
  {
   "cell_type": "code",
   "execution_count": 6,
   "id": "db1b815c-f067-45b9-b0c6-19195b2277a9",
   "metadata": {},
   "outputs": [
    {
     "data": {
      "text/plain": [
       "(2, 3, 4, 5, 6)"
      ]
     },
     "execution_count": 6,
     "metadata": {},
     "output_type": "execute_result"
    }
   ],
   "source": [
    "test2(1,2,3,4,5,6)"
   ]
  },
  {
   "cell_type": "code",
   "execution_count": 7,
   "id": "d44e61e4-30e5-4254-9d1e-66748b6978af",
   "metadata": {},
   "outputs": [],
   "source": [
    "def test():\n",
    "    print('hello This is my first function')\n",
    "    "
   ]
  },
  {
   "cell_type": "code",
   "execution_count": 8,
   "id": "21861bce-2cd6-4368-a9b3-2e8855bd22f2",
   "metadata": {},
   "outputs": [
    {
     "name": "stdout",
     "output_type": "stream",
     "text": [
      "hello This is my first function\n"
     ]
    }
   ],
   "source": [
    "test()"
   ]
  },
  {
   "cell_type": "code",
   "execution_count": 9,
   "id": "37e4a8fa-4e2b-4cf1-9597-b3c67ceb9924",
   "metadata": {},
   "outputs": [],
   "source": [
    "def name():\n",
    "    print(\"This is my function name\")\n",
    "    "
   ]
  },
  {
   "cell_type": "code",
   "execution_count": 10,
   "id": "17907e25-1e2e-48dc-b02b-a92b8894841f",
   "metadata": {},
   "outputs": [
    {
     "name": "stdout",
     "output_type": "stream",
     "text": [
      "This is my function name\n"
     ]
    }
   ],
   "source": [
    "name()"
   ]
  },
  {
   "cell_type": "code",
   "execution_count": 11,
   "id": "716503e0-3d8b-4cbe-8b55-dd97a072be7a",
   "metadata": {},
   "outputs": [],
   "source": [
    "def test3(a):\n",
    "    print(a)\n",
    "    "
   ]
  },
  {
   "cell_type": "code",
   "execution_count": 12,
   "id": "7dd058c2-4928-4155-8f4f-e11d952a7314",
   "metadata": {},
   "outputs": [
    {
     "name": "stdout",
     "output_type": "stream",
     "text": [
      "10\n"
     ]
    }
   ],
   "source": [
    "test3(10)"
   ]
  },
  {
   "cell_type": "code",
   "execution_count": 13,
   "id": "5ace1c9e-a02f-45c2-9e9b-dc1f845f2049",
   "metadata": {},
   "outputs": [
    {
     "name": "stdout",
     "output_type": "stream",
     "text": [
      "hello\n"
     ]
    }
   ],
   "source": [
    "test3('hello')"
   ]
  },
  {
   "cell_type": "code",
   "execution_count": 14,
   "id": "f15e9d1c-b96f-49b4-84d3-9396393c881b",
   "metadata": {},
   "outputs": [],
   "source": [
    "def add (a,b):\n",
    "    print(a+b)"
   ]
  },
  {
   "cell_type": "code",
   "execution_count": 15,
   "id": "2e530876-d55b-47cb-a9dd-068a26a75fca",
   "metadata": {},
   "outputs": [
    {
     "name": "stdout",
     "output_type": "stream",
     "text": [
      "49\n"
     ]
    }
   ],
   "source": [
    "add(10,39)"
   ]
  },
  {
   "cell_type": "code",
   "execution_count": 16,
   "id": "8dfb0c4e-10e3-4bc3-b4d9-3075650bf394",
   "metadata": {},
   "outputs": [
    {
     "name": "stdout",
     "output_type": "stream",
     "text": [
      "127\n"
     ]
    }
   ],
   "source": [
    "add(38,89)"
   ]
  },
  {
   "cell_type": "code",
   "execution_count": 17,
   "id": "e9d53f4a-d92c-4fdc-9e0c-9491331af3f7",
   "metadata": {},
   "outputs": [
    {
     "name": "stdout",
     "output_type": "stream",
     "text": [
      "helloworld\n"
     ]
    }
   ],
   "source": [
    "add('hello','world')"
   ]
  },
  {
   "cell_type": "code",
   "execution_count": 19,
   "id": "6e6f84e7-f09f-46f5-8e28-c773c0dd93d1",
   "metadata": {},
   "outputs": [
    {
     "name": "stdout",
     "output_type": "stream",
     "text": [
      "helloworld\n"
     ]
    }
   ],
   "source": [
    "add('hello','world')"
   ]
  },
  {
   "cell_type": "code",
   "execution_count": 21,
   "id": "74d05938-ada2-4f40-8984-880bfa9f97b1",
   "metadata": {},
   "outputs": [],
   "source": [
    "def sqr(a):\n",
    "    print (a*a)\n",
    "    "
   ]
  },
  {
   "cell_type": "code",
   "execution_count": 22,
   "id": "ab7166ab-84e6-4de8-a626-ab3156d9d6d5",
   "metadata": {},
   "outputs": [
    {
     "name": "stdout",
     "output_type": "stream",
     "text": [
      "16\n"
     ]
    }
   ],
   "source": [
    "sqr(4)"
   ]
  },
  {
   "cell_type": "code",
   "execution_count": 25,
   "id": "322bc3fa-1be4-4cae-bb98-58847909dad3",
   "metadata": {},
   "outputs": [],
   "source": [
    "def cube(a):\n",
    "    print(a*a*a)"
   ]
  },
  {
   "cell_type": "code",
   "execution_count": 27,
   "id": "7069a328-2f3c-400e-8e6c-08b21a5d74ac",
   "metadata": {},
   "outputs": [
    {
     "name": "stdout",
     "output_type": "stream",
     "text": [
      "8\n"
     ]
    }
   ],
   "source": [
    "cube(2)"
   ]
  },
  {
   "cell_type": "code",
   "execution_count": 31,
   "id": "03391527-9467-40d0-bfc3-792777e1e70e",
   "metadata": {},
   "outputs": [
    {
     "name": "stdout",
     "output_type": "stream",
     "text": [
      "1000\n"
     ]
    }
   ],
   "source": [
    "cube(10)"
   ]
  },
  {
   "cell_type": "code",
   "execution_count": 34,
   "id": "d546f88c-a6d1-4caf-bc4d-bdb68768798e",
   "metadata": {},
   "outputs": [],
   "source": [
    "def even_odd(x):\n",
    "    if x%2==0:\n",
    "        print('Even')\n",
    "    else:\n",
    "        print('Odd')\n",
    "        "
   ]
  },
  {
   "cell_type": "code",
   "execution_count": 35,
   "id": "c2a82380-a12d-494e-ab07-30b590432db4",
   "metadata": {},
   "outputs": [
    {
     "name": "stdout",
     "output_type": "stream",
     "text": [
      "Odd\n"
     ]
    }
   ],
   "source": [
    "even_odd(199)"
   ]
  },
  {
   "cell_type": "code",
   "execution_count": 36,
   "id": "9019032e-9e85-471e-9497-3ea1d84ed5a8",
   "metadata": {},
   "outputs": [
    {
     "name": "stdout",
     "output_type": "stream",
     "text": [
      "Even\n"
     ]
    }
   ],
   "source": [
    "even_odd(200)"
   ]
  },
  {
   "cell_type": "code",
   "execution_count": 37,
   "id": "236be2b7-5c79-4eee-aa84-faf86841e9f4",
   "metadata": {},
   "outputs": [],
   "source": [
    "def palindrom(a):\n",
    "    if a==a[::-1]:\n",
    "        print('Palindrom')\n",
    "    else:\n",
    "        print('Not palindrom')"
   ]
  },
  {
   "cell_type": "code",
   "execution_count": 40,
   "id": "e8da4edd-394f-4114-8423-324d79147d7c",
   "metadata": {},
   "outputs": [
    {
     "name": "stdout",
     "output_type": "stream",
     "text": [
      "Palindrom mom\n"
     ]
    }
   ],
   "source": [
    "palindrom('mom')"
   ]
  },
  {
   "cell_type": "code",
   "execution_count": 43,
   "id": "47631973-b906-4fb9-a016-9501f289f68c",
   "metadata": {},
   "outputs": [
    {
     "name": "stdout",
     "output_type": "stream",
     "text": [
      "Not palindrom\n"
     ]
    }
   ],
   "source": [
    "palindrom('car')"
   ]
  },
  {
   "cell_type": "code",
   "execution_count": 44,
   "id": "49d5bbe7-51fa-43f6-bff0-5ad5c41f10df",
   "metadata": {},
   "outputs": [
    {
     "name": "stdout",
     "output_type": "stream",
     "text": [
      "Palindrom heeh\n"
     ]
    }
   ],
   "source": [
    "palindrom('heeh')"
   ]
  },
  {
   "cell_type": "raw",
   "id": "85862608-d4aa-4698-9253-d8ed2dee4dda",
   "metadata": {},
   "source": [
    "## what is different between print and return \n",
    "print is just showcasing values.\n",
    "Return will write down actual data type.\n"
   ]
  },
  {
   "cell_type": "code",
   "execution_count": 45,
   "id": "cba2c57b-e087-41d9-bcfc-047fd6a1be24",
   "metadata": {},
   "outputs": [
    {
     "name": "stdout",
     "output_type": "stream",
     "text": [
      "Even\n"
     ]
    }
   ],
   "source": [
    "even_odd(6)"
   ]
  },
  {
   "cell_type": "code",
   "execution_count": 46,
   "id": "df325717-dcea-4273-969d-e4ed80a63634",
   "metadata": {},
   "outputs": [
    {
     "name": "stdout",
     "output_type": "stream",
     "text": [
      "Even\n"
     ]
    },
    {
     "data": {
      "text/plain": [
       "NoneType"
      ]
     },
     "execution_count": 46,
     "metadata": {},
     "output_type": "execute_result"
    }
   ],
   "source": [
    "type(even_odd(6))"
   ]
  },
  {
   "cell_type": "code",
   "execution_count": 47,
   "id": "6ccb6991-9637-4e79-b340-e79429e794ab",
   "metadata": {},
   "outputs": [
    {
     "name": "stdout",
     "output_type": "stream",
     "text": [
      "5\n"
     ]
    }
   ],
   "source": [
    "add(1,4)"
   ]
  },
  {
   "cell_type": "code",
   "execution_count": 48,
   "id": "e5a84a70-ca9e-4975-8bde-7d7a30390c7a",
   "metadata": {},
   "outputs": [
    {
     "name": "stdout",
     "output_type": "stream",
     "text": [
      "1\n"
     ]
    }
   ],
   "source": [
    "add(1,0)"
   ]
  },
  {
   "cell_type": "code",
   "execution_count": 49,
   "id": "8e1b9781-370a-406a-8f2b-f32a9e24b6af",
   "metadata": {},
   "outputs": [
    {
     "name": "stdout",
     "output_type": "stream",
     "text": [
      "58\n"
     ]
    },
    {
     "data": {
      "text/plain": [
       "NoneType"
      ]
     },
     "execution_count": 49,
     "metadata": {},
     "output_type": "execute_result"
    }
   ],
   "source": [
    "type(add(19,39))"
   ]
  },
  {
   "cell_type": "code",
   "execution_count": 50,
   "id": "feac73e0-2cfd-4bfe-a3f1-0e0495c800b4",
   "metadata": {},
   "outputs": [],
   "source": [
    "def test6(a,b):\n",
    "    return a+b"
   ]
  },
  {
   "cell_type": "code",
   "execution_count": 51,
   "id": "f7d09711-2d08-4d3e-854b-d625adba75f2",
   "metadata": {},
   "outputs": [
    {
     "data": {
      "text/plain": [
       "6"
      ]
     },
     "execution_count": 51,
     "metadata": {},
     "output_type": "execute_result"
    }
   ],
   "source": [
    "test6(1,5)"
   ]
  },
  {
   "cell_type": "code",
   "execution_count": 52,
   "id": "57d10dc2-89c2-4954-9a3c-178b16cc76d9",
   "metadata": {},
   "outputs": [
    {
     "data": {
      "text/plain": [
       "int"
      ]
     },
     "execution_count": 52,
     "metadata": {},
     "output_type": "execute_result"
    }
   ],
   "source": [
    "type(test6(1,5))"
   ]
  },
  {
   "cell_type": "code",
   "execution_count": 53,
   "id": "7de8662a-ace3-46fc-86f6-316acf41b3a8",
   "metadata": {},
   "outputs": [
    {
     "name": "stdout",
     "output_type": "stream",
     "text": [
      "hello\n"
     ]
    }
   ],
   "source": [
    "print('hello')"
   ]
  },
  {
   "cell_type": "code",
   "execution_count": 54,
   "id": "819b2f6d-9225-49ce-b20a-aa3054b4a35c",
   "metadata": {},
   "outputs": [],
   "source": [
    "def data_filter(a):\n",
    "    if type(a)==int:\n",
    "        return 'Data type is the int',a\n",
    "    else:\n",
    "        return 'Data is not int'"
   ]
  },
  {
   "cell_type": "code",
   "execution_count": 55,
   "id": "cc1c3158-0435-48af-9947-80e62e14a6c6",
   "metadata": {},
   "outputs": [
    {
     "data": {
      "text/plain": [
       "('Data type is the int', 67)"
      ]
     },
     "execution_count": 55,
     "metadata": {},
     "output_type": "execute_result"
    }
   ],
   "source": [
    "data_filter(67)"
   ]
  },
  {
   "cell_type": "code",
   "execution_count": 56,
   "id": "10e53096-5538-4ee7-a2e7-1b3c7e6350bd",
   "metadata": {},
   "outputs": [
    {
     "data": {
      "text/plain": [
       "'Data is not int'"
      ]
     },
     "execution_count": 56,
     "metadata": {},
     "output_type": "execute_result"
    }
   ],
   "source": [
    "data_filter('hello')"
   ]
  },
  {
   "cell_type": "code",
   "execution_count": 57,
   "id": "e7328b0f-104e-478d-9515-9395b82d3228",
   "metadata": {},
   "outputs": [],
   "source": [
    "def test9(a,z,e,r):\n",
    "    return a,z,e,r"
   ]
  },
  {
   "cell_type": "code",
   "execution_count": 58,
   "id": "7853e8ec-4894-4492-b00f-267f228d1e9a",
   "metadata": {},
   "outputs": [
    {
     "data": {
      "text/plain": [
       "(1, 2, 3, 4)"
      ]
     },
     "execution_count": 58,
     "metadata": {},
     "output_type": "execute_result"
    }
   ],
   "source": [
    "test9(1,2,3,4)"
   ]
  },
  {
   "cell_type": "raw",
   "id": "93d836e8-25c9-4371-b879-86d51152faf7",
   "metadata": {},
   "source": [
    "#n numbers of arguments\n",
    "It means mix data set can be add in the args\n"
   ]
  },
  {
   "cell_type": "code",
   "execution_count": 60,
   "id": "b0b37e7f-edca-4817-90a6-04424fc53380",
   "metadata": {},
   "outputs": [],
   "source": [
    "def test10(*args):\n",
    "    return args"
   ]
  },
  {
   "cell_type": "code",
   "execution_count": 61,
   "id": "601c8360-b688-4b97-aa1c-9f7c70683685",
   "metadata": {},
   "outputs": [
    {
     "data": {
      "text/plain": [
       "(1, 2, 3, 46, 'abc', True)"
      ]
     },
     "execution_count": 61,
     "metadata": {},
     "output_type": "execute_result"
    }
   ],
   "source": [
    "test10(1,2,3,46,'abc',True)"
   ]
  },
  {
   "cell_type": "code",
   "execution_count": 62,
   "id": "dd9ba233-eebd-4be6-8804-d01977a61201",
   "metadata": {},
   "outputs": [],
   "source": [
    "def test11(*args):\n",
    "    l=[]\n",
    "    for i in args:\n",
    "        if type(i)==int:\n",
    "            l.append(i)\n",
    "    return l\n",
    "    "
   ]
  },
  {
   "cell_type": "code",
   "execution_count": 65,
   "id": "225758ec-a7e2-439a-9c45-4e287159e54f",
   "metadata": {},
   "outputs": [
    {
     "data": {
      "text/plain": [
       "[1, 2, 3, 4, 5, 7]"
      ]
     },
     "execution_count": 65,
     "metadata": {},
     "output_type": "execute_result"
    }
   ],
   "source": [
    "test11(1,2,3,4,'hello',True,5,7) ##only intergers will get appended "
   ]
  },
  {
   "cell_type": "code",
   "execution_count": 66,
   "id": "b86c2898-b68f-4e3b-932e-a14e5b08368d",
   "metadata": {},
   "outputs": [],
   "source": [
    "def test12(*args):\n",
    "    p=[]\n",
    "    for i in args:\n",
    "        if type(i)==int:\n",
    "            p.append(i)\n",
    "    return p"
   ]
  },
  {
   "cell_type": "code",
   "execution_count": 67,
   "id": "45683180-04d5-451e-879e-ea7a2ecc82e4",
   "metadata": {},
   "outputs": [
    {
     "data": {
      "text/plain": [
       "[1, 3, 5, 6, 77, 66]"
      ]
     },
     "execution_count": 67,
     "metadata": {},
     "output_type": "execute_result"
    }
   ],
   "source": [
    "test12(1,3,5,6,77,'hey','abc',6.7,66)"
   ]
  },
  {
   "cell_type": "code",
   "execution_count": 70,
   "id": "a7457859-4bb3-4e76-a7d4-476d6a8d15b3",
   "metadata": {},
   "outputs": [],
   "source": [
    "def test12(*args):\n",
    "    k=[]\n",
    "    for i in args:\n",
    "        if type(i)==float:\n",
    "            k.append(i)\n",
    "    return k"
   ]
  },
  {
   "cell_type": "code",
   "execution_count": 71,
   "id": "9a21bbfa-b7fc-421e-a8c3-a57594b2798e",
   "metadata": {},
   "outputs": [
    {
     "data": {
      "text/plain": [
       "[77.88, 99.88]"
      ]
     },
     "execution_count": 71,
     "metadata": {},
     "output_type": "execute_result"
    }
   ],
   "source": [
    "test12(1,36,7,8,7,8,'abc','gb',77.88,99.88)"
   ]
  },
  {
   "cell_type": "code",
   "execution_count": 74,
   "id": "ce9e33e4-e88d-417e-9377-8d03400f871a",
   "metadata": {},
   "outputs": [],
   "source": [
    "def test12(*args):\n",
    "    d=[]\n",
    "    for i in args:\n",
    "        if type(i)==str:\n",
    "            d.append(i)\n",
    "    return d"
   ]
  },
  {
   "cell_type": "code",
   "execution_count": 75,
   "id": "02ab9c91-8fb4-4f92-871c-1f04ec8b14c1",
   "metadata": {},
   "outputs": [
    {
     "data": {
      "text/plain": [
       "['h', 'p', 'k', 'y']"
      ]
     },
     "execution_count": 75,
     "metadata": {},
     "output_type": "execute_result"
    }
   ],
   "source": [
    "test12('h','p','k','y',12,34,56)"
   ]
  },
  {
   "cell_type": "code",
   "execution_count": null,
   "id": "a7b61b74-1db8-4e6e-a583-9943417eb515",
   "metadata": {},
   "outputs": [],
   "source": []
  }
 ],
 "metadata": {
  "kernelspec": {
   "display_name": "Python 3 (ipykernel)",
   "language": "python",
   "name": "python3"
  },
  "language_info": {
   "codemirror_mode": {
    "name": "ipython",
    "version": 3
   },
   "file_extension": ".py",
   "mimetype": "text/x-python",
   "name": "python",
   "nbconvert_exporter": "python",
   "pygments_lexer": "ipython3",
   "version": "3.13.2"
  }
 },
 "nbformat": 4,
 "nbformat_minor": 5
}
