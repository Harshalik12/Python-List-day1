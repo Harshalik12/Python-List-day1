{
 "cells": [
  {
   "cell_type": "code",
   "execution_count": 1,
   "id": "193300b6-10cc-4aac-9bd4-c7b1859fe61d",
   "metadata": {},
   "outputs": [],
   "source": [
    "def test(a,b):\n",
    "    try:\n",
    "        print(a+b)\n",
    "    except Exception as e:\n",
    "        print(e)"
   ]
  },
  {
   "cell_type": "code",
   "execution_count": 2,
   "id": "96611fde-387b-4708-81f9-4590c8d78343",
   "metadata": {},
   "outputs": [
    {
     "name": "stdout",
     "output_type": "stream",
     "text": [
      "unsupported operand type(s) for +: 'int' and 'str'\n"
     ]
    }
   ],
   "source": [
    "test(10,'hello')"
   ]
  },
  {
   "cell_type": "code",
   "execution_count": 3,
   "id": "c34a456b-eb00-4a3d-ac92-1bfd8a581380",
   "metadata": {},
   "outputs": [
    {
     "name": "stdin",
     "output_type": "stream",
     "text": [
      " 7\n",
      " 'hello'\n"
     ]
    },
    {
     "name": "stdout",
     "output_type": "stream",
     "text": [
      "invalid literal for int() with base 10: \"'hello'\"\n",
      "Project Completed\n"
     ]
    }
   ],
   "source": [
    "try:\n",
    "    a=int(input())\n",
    "    b=int(input())\n",
    "    print(a+b)\n",
    "except Exception as e:\n",
    "    print(e)\n",
    "finally:\n",
    "    print('Project Completed')"
   ]
  },
  {
   "cell_type": "code",
   "execution_count": 5,
   "id": "3dd5f326-7f31-4e45-b4cb-99b7c6c5cd8d",
   "metadata": {},
   "outputs": [
    {
     "name": "stdout",
     "output_type": "stream",
     "text": [
      "[Errno 2] No such file or directory: 'hello.txt'\n"
     ]
    },
    {
     "ename": "NameError",
     "evalue": "name 'f' is not defined",
     "output_type": "error",
     "traceback": [
      "\u001b[31m---------------------------------------------------------------------------\u001b[39m",
      "\u001b[31mNameError\u001b[39m                                 Traceback (most recent call last)",
      "\u001b[36mCell\u001b[39m\u001b[36m \u001b[39m\u001b[32mIn[5]\u001b[39m\u001b[32m, line 7\u001b[39m\n\u001b[32m      5\u001b[39m     \u001b[38;5;28mprint\u001b[39m(e)\n\u001b[32m      6\u001b[39m \u001b[38;5;28;01mfinally\u001b[39;00m:\n\u001b[32m----> \u001b[39m\u001b[32m7\u001b[39m     \u001b[43mf\u001b[49m.close()\n\u001b[32m      8\u001b[39m     \u001b[38;5;28mprint\u001b[39m(\u001b[33m'\u001b[39m\u001b[33mFile Closed\u001b[39m\u001b[33m'\u001b[39m)\n",
      "\u001b[31mNameError\u001b[39m: name 'f' is not defined"
     ]
    }
   ],
   "source": [
    "try:\n",
    "    f=open('hello.txt',mode='r')\n",
    "    print(f.read())\n",
    "except Exception as e:\n",
    "    print(e)\n",
    "finally:\n",
    "    f.close()\n",
    "    print('File Closed')"
   ]
  },
  {
   "cell_type": "code",
   "execution_count": 6,
   "id": "3efb2afb-efb9-4370-a086-e4fa3ef43718",
   "metadata": {},
   "outputs": [],
   "source": [
    "def test2(*args):\n",
    "    try:\n",
    "        for i in args:\n",
    "            print(k)\n",
    "    except Exception as e:\n",
    "        print(e)"
   ]
  },
  {
   "cell_type": "code",
   "execution_count": null,
   "id": "b378e50b-771e-40da-a6f3-5ac09ac4cd51",
   "metadata": {},
   "outputs": [],
   "source": [
    "#logging"
   ]
  },
  {
   "cell_type": "code",
   "execution_count": 7,
   "id": "430d173d-7c8b-4ce1-8437-326e4d245240",
   "metadata": {},
   "outputs": [],
   "source": [
    "import logging"
   ]
  },
  {
   "cell_type": "code",
   "execution_count": 10,
   "id": "ed9c5b1d-3098-495d-b97e-6662924592ac",
   "metadata": {},
   "outputs": [],
   "source": [
    "logging.basicConfig(filename='my_logs.log',level=logging.DEBUG,\n",
    "                   format='%(asctime)s -%(levelname)s-%(message)s')"
   ]
  },
  {
   "cell_type": "code",
   "execution_count": 11,
   "id": "c59aa0cb-c391-4b91-a6fe-c65f23979623",
   "metadata": {},
   "outputs": [],
   "source": [
    "logging.debug('This is my DEBUG log')\n",
    "logging.info('This is my INFORMATION log')\n",
    "logging.warning('This is my warning log')\n"
   ]
  },
  {
   "cell_type": "code",
   "execution_count": 19,
   "id": "2748fbaf-ab9f-4734-a4a8-e907391a7778",
   "metadata": {},
   "outputs": [],
   "source": [
    "def divide(a,b):\n",
    "    try:\n",
    "        logging.info('Divide function started')\n",
    "        result=a/b\n",
    "        logging.info(f'Input of {a}and {b} having result of{result}')\n",
    "        return (result)\n",
    "    except Exception as e:\n",
    "        print(e)\n",
    "        logging.error('Error happend is divide function')\n",
    "        logging.error(e)"
   ]
  },
  {
   "cell_type": "code",
   "execution_count": 20,
   "id": "8534551e-be4f-4458-9b1b-d0bf33ec2d0b",
   "metadata": {},
   "outputs": [
    {
     "data": {
      "text/plain": [
       "2.0"
      ]
     },
     "execution_count": 20,
     "metadata": {},
     "output_type": "execute_result"
    }
   ],
   "source": [
    "divide(10,5)"
   ]
  },
  {
   "cell_type": "code",
   "execution_count": 21,
   "id": "51d14b3c-679e-45d5-9d76-639186be7e06",
   "metadata": {},
   "outputs": [
    {
     "name": "stdout",
     "output_type": "stream",
     "text": [
      "division by zero\n"
     ]
    }
   ],
   "source": [
    "divide(3,0)"
   ]
  },
  {
   "cell_type": "code",
   "execution_count": 22,
   "id": "a356e64d-e138-4522-ae5b-24c07d7738d5",
   "metadata": {},
   "outputs": [],
   "source": [
    "logging.shutdown()"
   ]
  },
  {
   "cell_type": "code",
   "execution_count": 23,
   "id": "8f32e6d8-f0ab-419e-9e5b-45d64b888ec3",
   "metadata": {},
   "outputs": [],
   "source": [
    "import logging\n"
   ]
  },
  {
   "cell_type": "code",
   "execution_count": 24,
   "id": "a1de9590-1313-4240-8bca-b1758029a519",
   "metadata": {},
   "outputs": [
    {
     "ename": "AttributeError",
     "evalue": "module 'logging' has no attribute 'basicCongfig'",
     "output_type": "error",
     "traceback": [
      "\u001b[31m---------------------------------------------------------------------------\u001b[39m",
      "\u001b[31mAttributeError\u001b[39m                            Traceback (most recent call last)",
      "\u001b[36mCell\u001b[39m\u001b[36m \u001b[39m\u001b[32mIn[24]\u001b[39m\u001b[32m, line 1\u001b[39m\n\u001b[32m----> \u001b[39m\u001b[32m1\u001b[39m \u001b[43mlogging\u001b[49m\u001b[43m.\u001b[49m\u001b[43mbasicCongfig\u001b[49m(filename=\u001b[33m'\u001b[39m\u001b[33mexception handling.txt\u001b[39m\u001b[33m'\u001b[39m,level=logging.INFO)\n",
      "\u001b[31mAttributeError\u001b[39m: module 'logging' has no attribute 'basicCongfig'"
     ]
    }
   ],
   "source": [
    "logging.basicCongfig(filename='exception handling.txt',level=logging.INFO)"
   ]
  },
  {
   "cell_type": "code",
   "execution_count": null,
   "id": "61cc11bf-a325-4a5b-a110-4ba95e5debb2",
   "metadata": {},
   "outputs": [],
   "source": []
  }
 ],
 "metadata": {
  "kernelspec": {
   "display_name": "Python 3 (ipykernel)",
   "language": "python",
   "name": "python3"
  },
  "language_info": {
   "codemirror_mode": {
    "name": "ipython",
    "version": 3
   },
   "file_extension": ".py",
   "mimetype": "text/x-python",
   "name": "python",
   "nbconvert_exporter": "python",
   "pygments_lexer": "ipython3",
   "version": "3.13.2"
  }
 },
 "nbformat": 4,
 "nbformat_minor": 5
}
