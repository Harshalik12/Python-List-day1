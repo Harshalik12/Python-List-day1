{
 "cells": [
  {
   "cell_type": "code",
   "execution_count": 5,
   "id": "5cfca9d8-58da-40e9-a2ac-33ebf72c4c93",
   "metadata": {},
   "outputs": [
    {
     "name": "stdin",
     "output_type": "stream",
     "text": [
      "Enter a number 34\n",
      "Enter the second number 2\n"
     ]
    },
    {
     "name": "stdout",
     "output_type": "stream",
     "text": [
      "First number is greater\n"
     ]
    }
   ],
   "source": [
    "#write the program to find the maximum number between two numbers\n",
    "a=int(input('Enter a number'))\n",
    "b=int(input('Enter the second number'))\n",
    "if(a>b):\n",
    "    print('First number is greater')\n",
    "else:\n",
    "    print('Second number is greater')\n"
   ]
  },
  {
   "cell_type": "code",
   "execution_count": 11,
   "id": "53d9ba26-7363-40d0-a69e-b8f9c42eb547",
   "metadata": {},
   "outputs": [
    {
     "name": "stdin",
     "output_type": "stream",
     "text": [
      "Enter a number 80\n",
      "Enter the second number 90\n",
      "Enter the third number 40\n"
     ]
    },
    {
     "name": "stdout",
     "output_type": "stream",
     "text": [
      "B is Greater\n"
     ]
    }
   ],
   "source": [
    "#write the program for the find the maximum number between 3 numbers\n",
    "a=int(input('Enter a number'))\n",
    "b=int(input('Enter the second number'))\n",
    "c=int(input('Enter the third number'))\n",
    "if(a>b):\n",
    "    if(a>c):\n",
    "        print('A is greater')\n",
    "    else:\n",
    "        print('C is Greater')\n",
    "elif(b>c):\n",
    "    print('B is Greater')\n",
    "else:\n",
    "    print('C is greater')\n",
    "    \n"
   ]
  },
  {
   "cell_type": "code",
   "execution_count": 14,
   "id": "25bd774d-787c-4082-8277-7e26b379f1de",
   "metadata": {},
   "outputs": [
    {
     "name": "stdin",
     "output_type": "stream",
     "text": [
      "Enter a number -90\n"
     ]
    },
    {
     "name": "stdout",
     "output_type": "stream",
     "text": [
      "Negative\n"
     ]
    }
   ],
   "source": [
    "#write a program to check whether a number is negative,positive or zero\n",
    "a=int(input('Enter a number'))\n",
    "if(a>0):\n",
    "    print('Positive')\n",
    "elif(a<0):\n",
    "    print('Negative')\n",
    "else:\n",
    "    print('Zero')"
   ]
  },
  {
   "cell_type": "code",
   "execution_count": 22,
   "id": "5ef0843e-a848-4c8b-82f6-3d1d9ae7692f",
   "metadata": {},
   "outputs": [
    {
     "name": "stdin",
     "output_type": "stream",
     "text": [
      "Enter a number 33\n"
     ]
    },
    {
     "name": "stdout",
     "output_type": "stream",
     "text": [
      "Number is not divisible\n"
     ]
    }
   ],
   "source": [
    "#write the program to check whether a number is divisile ny 5 and 11 or not\n",
    "a=int(input('Enter a number'))\n",
    "if((a%5==0)and(a%11==0)):\n",
    "    print('Number is divisible ny 5 and 11 both')\n",
    "else:\n",
    "    print('Number is not divisible')"
   ]
  },
  {
   "cell_type": "code",
   "execution_count": 23,
   "id": "4cccf87e-e221-4a3e-8e34-85de42ec976c",
   "metadata": {},
   "outputs": [
    {
     "name": "stdin",
     "output_type": "stream",
     "text": [
      "Enter a number 50\n"
     ]
    },
    {
     "name": "stdout",
     "output_type": "stream",
     "text": [
      "Number is an even number\n"
     ]
    }
   ],
   "source": [
    "#Write a program to check whethere th number is even or odd\n",
    "b=int(input('Enter a number'))\n",
    "if(b%2==0):\n",
    "    print('Number is an even number')\n",
    "else:\n",
    "    print('Number is an odd number')"
   ]
  },
  {
   "cell_type": "code",
   "execution_count": 27,
   "id": "d5debe58-81f5-402d-bf75-efa025efa687",
   "metadata": {},
   "outputs": [
    {
     "name": "stdin",
     "output_type": "stream",
     "text": [
      "Enter the year 104\n"
     ]
    },
    {
     "name": "stdout",
     "output_type": "stream",
     "text": [
      "Year is the leap year\n"
     ]
    }
   ],
   "source": [
    "#write the program to check the year is leap year or not\n",
    "year=int(input('Enter the year'))\n",
    "if(year%400==0)or(year%100!=0):\n",
    "    print('Year is the leap year')\n",
    "else:\n",
    "    print('Year is not the leap year')"
   ]
  },
  {
   "cell_type": "code",
   "execution_count": 31,
   "id": "4004c658-814f-41aa-a090-d12870c2a001",
   "metadata": {},
   "outputs": [
    {
     "name": "stdin",
     "output_type": "stream",
     "text": [
      "Enter a charachter hiu\n"
     ]
    },
    {
     "name": "stdout",
     "output_type": "stream",
     "text": [
      "Entered charater is the alphabet\n"
     ]
    }
   ],
   "source": [
    "#write the program to check whether the charachter is alphabet or not\n",
    "#uses the(IS APLHA FUNCTION)\n",
    "a=(input('Enter a charachter'))\n",
    "if a.isalpha():\n",
    "    print('Entered charater is the alphabet')\n",
    "else:\n",
    "    print('Not aplphabet')\n"
   ]
  },
  {
   "cell_type": "code",
   "execution_count": 33,
   "id": "7b3ff91d-b192-4ae4-817e-c67e65c222cf",
   "metadata": {},
   "outputs": [
    {
     "name": "stdin",
     "output_type": "stream",
     "text": [
      "Enter the alphabet: i\n"
     ]
    },
    {
     "name": "stdout",
     "output_type": "stream",
     "text": [
      "Vowels\n"
     ]
    }
   ],
   "source": [
    "#check alphabet is vowel or consonant\n",
    "ch=input('Enter the alphabet:')\n",
    "if ch in'aeiou':\n",
    "    print('Vowels')\n",
    "else:\n",
    "    print('consonants')\n"
   ]
  },
  {
   "cell_type": "code",
   "execution_count": 44,
   "id": "b03136bf-dff8-4789-ac36-0356f8816ef0",
   "metadata": {},
   "outputs": [
    {
     "name": "stdin",
     "output_type": "stream",
     "text": [
      "Enter a charachter #\n"
     ]
    },
    {
     "name": "stdout",
     "output_type": "stream",
     "text": [
      "Special character\n"
     ]
    }
   ],
   "source": [
    "#Check whether it is digit ,alphabet or any special charater\n",
    "x=input('Enter a charachter')\n",
    "if x.isalpha():\n",
    "    print('Alphabet')\n",
    "elif x.isdigit():\n",
    "    print('Digit')\n",
    "else:\n",
    "    print('Special character')"
   ]
  },
  {
   "cell_type": "code",
   "execution_count": null,
   "id": "d1384e41-aeac-42b6-8019-27aea7b122d6",
   "metadata": {},
   "outputs": [],
   "source": []
  }
 ],
 "metadata": {
  "kernelspec": {
   "display_name": "Python 3 (ipykernel)",
   "language": "python",
   "name": "python3"
  },
  "language_info": {
   "codemirror_mode": {
    "name": "ipython",
    "version": 3
   },
   "file_extension": ".py",
   "mimetype": "text/x-python",
   "name": "python",
   "nbconvert_exporter": "python",
   "pygments_lexer": "ipython3",
   "version": "3.13.2"
  }
 },
 "nbformat": 4,
 "nbformat_minor": 5
}
