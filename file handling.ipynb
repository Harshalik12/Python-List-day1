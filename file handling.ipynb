{
 "cells": [
  {
   "cell_type": "code",
   "execution_count": 1,
   "id": "f550963b-ada9-40c9-905c-5ac57cd838f3",
   "metadata": {},
   "outputs": [
    {
     "name": "stdout",
     "output_type": "stream",
     "text": [
      " Volume in drive C is Windows\n",
      " Volume Serial Number is 7CD5-0C3F\n",
      "\n",
      " Directory of C:\\Users\\HP\n",
      "\n",
      "04-10-2025  19:43    <DIR>          .\n",
      "17-03-2024  21:16    <DIR>          ..\n",
      "21-09-2025  13:52    <DIR>          .conda\n",
      "23-04-2025  15:51               126 .gitconfig\n",
      "05-05-2024  21:25    <DIR>          .idlerc\n",
      "04-10-2025  19:43    <DIR>          .ipynb_checkpoints\n",
      "18-03-2025  10:14    <DIR>          .ipython\n",
      "10-09-2025  21:01    <DIR>          .jupyter\n",
      "23-04-2025  15:40    <DIR>          .matplotlib\n",
      "21-09-2025  13:54    <DIR>          .vscode\n",
      "15-07-2025  19:33    <DIR>          __pycache__\n",
      "16-06-2025  19:15            19,871 2nd Week.ipynb\n",
      "23-09-2025  20:10    <DIR>          704_Projects\n",
      "05-04-2025  19:56               665 about.html\n",
      "25-08-2025  20:37             6,881 Basiscs.ipynb\n",
      "16-06-2025  19:30             5,894 Conditional sat.ipynb\n",
      "18-03-2024  04:00    <DIR>          Contacts\n",
      "07-09-2025  14:02                47 demo1.java\n",
      "03-10-2025  18:09    <DIR>          Desktop\n",
      "23-09-2025  19:57         3,192,560 diamonds (2).csv\n",
      "25-09-2025  17:21    <DIR>          Documents\n",
      "03-10-2025  18:19    <DIR>          Downloads\n",
      "12-08-2025  20:40           149,733 EDA dy1.ipynb\n",
      "12-08-2025  19:55            12,762 EDAday2.ipynb\n",
      "15-08-2025  15:00         1,415,728 EDAday3.ipynb\n",
      "04-10-2025  19:38             7,227 exception hadling.ipynb\n",
      "18-03-2024  04:00    <DIR>          Favorites\n",
      "20-09-2025  19:32            12,573 Feature and scallingog.ipynb\n",
      "04-10-2025  19:43               617 file handling.ipynb\n",
      "31-07-2025  19:34            17,695 Functions.ipynb\n",
      "15-07-2025  19:33                90 functions.py\n",
      "17-03-2025  20:39                16 Goldpr.py\n",
      "15-07-2025  19:48               166 hello.py\n",
      "07-09-2025  14:00                51 Java pr.txt\n",
      "31-07-2025  19:37             9,065 libraries.ipynb\n",
      "20-09-2025  22:36            24,555 Linear Regression.ipynb\n",
      "18-03-2024  04:00    <DIR>          Links\n",
      "12-06-2025  19:55            22,026 List day2.ipynb\n",
      "04-10-2025  19:25           325,844 Loan sanction.ipynb\n",
      "12-09-2025  20:09           384,337 loan_approval_dataset (3).csv\n",
      "31-07-2025  19:52             8,673 logging.ipynb\n",
      "15-07-2025  18:26               160 logging.log\n",
      "20-09-2025  23:01    <DIR>          machine learning\n",
      "21-09-2025  11:28    <DIR>          Machine learning.854aae66-4c8a-4cbe-b0ed-063298db0adc\n",
      "20-09-2025  13:32    <DIR>          Machine Learning.faf7b511-1870-4e26-829f-e9eaf4bb3192\n",
      "08-04-2025  08:09    <DIR>          Microsoft\n",
      "21-09-2025  13:32    <DIR>          miniconda3\n",
      "16-09-2025  16:39            13,484 ml first.ipynb\n",
      "29-08-2025  19:42             3,933 mlday1.ipynb\n",
      "18-03-2024  04:00    <DIR>          Music\n",
      "15-07-2025  17:59             1,632 my_logs.log\n",
      "15-07-2025  20:51             1,490 mylog23.log\n",
      "15-07-2025  20:24               256 mylogfile.log\n",
      "18-07-2025  18:56    <DIR>          New folder\n",
      "10-09-2025  20:56    <DIR>          New folder (2)\n",
      "12-09-2025  20:19    <DIR>          New folder (3)\n",
      "21-09-2025  12:37    <DIR>          New folder (4)\n",
      "17-03-2025  20:47    <DIR>          OneDrive\n",
      "27-06-2025  19:39            13,870 OOP dy2.ipynb\n",
      "14-08-2025  13:06            12,486 OOPdy1.ipynb\n",
      "25-06-2025  20:41             8,289 OOPDy1.pynb\n",
      "24-07-2025  18:42           306,345 pandasdy1.ipynb\n",
      "31-07-2025  20:19           351,720 Pandasdy2.ipynb\n",
      "06-08-2025  14:06            93,048 pandasdy3.ipynb\n",
      "14-04-2025  10:40    <DIR>          Pictures\n",
      "05-04-2025  19:45               841 practice.html\n",
      "07-09-2025  14:01                47 Program1.java\n",
      "15-08-2024  16:05    <DIR>          pythonProject\n",
      "03-10-2025  18:11    <DIR>          pythonProject Harshali\n",
      "16-09-2024  10:53    <DIR>          pythonProject1\n",
      "10-03-2025  11:01    <DIR>          pythonProject10\n",
      "17-03-2025  19:35    <DIR>          pythonProject11\n",
      "17-03-2025  19:59    <DIR>          pythonProject12\n",
      "19-04-2025  20:00    <DIR>          pythonProject13\n",
      "19-04-2025  20:25    <DIR>          pythonProject14\n",
      "16-09-2024  11:11    <DIR>          pythonProject2\n",
      "16-09-2024  10:54    <DIR>          pythonProject2Lecture2\n",
      "16-09-2024  11:13    <DIR>          pythonProject3\n",
      "02-12-2024  20:23    <DIR>          pythonProject4\n",
      "07-12-2024  14:09    <DIR>          pythonProject5\n",
      "19-12-2024  14:40    <DIR>          pythonProject6\n",
      "08-01-2025  11:38    <DIR>          pythonProject7\n",
      "18-02-2025  13:57    <DIR>          pythonProject8\n",
      "28-02-2025  20:18    <DIR>          pythonProject9\n",
      "18-03-2024  04:00    <DIR>          Saved Games\n",
      "17-03-2024  21:16    <DIR>          Searches\n",
      "15-07-2025  19:30               190 testing.py\n",
      "15-07-2025  19:36               190 testings.py\n",
      "18-07-2025  18:44            60,302 titanic.csv\n",
      "18-03-2025  11:24    <DIR>          Untitled Folder\n",
      "29-08-2025  18:53    <DIR>          Untitled Folder 1\n",
      "20-09-2025  18:42    <DIR>          Untitled Folder 2\n",
      "06-08-2025  14:33             2,144 Untitled.ipynb\n",
      "13-08-2025  20:15                 0 untitled.py\n",
      "29-08-2025  18:50                 0 untitled.txt\n",
      "08-08-2025  12:00             1,198 Untitled1.ipynb\n",
      "20-09-2025  18:23                 0 untitled1.py\n",
      "11-09-2025  12:10               337 Untitled10.ipynb\n",
      "20-09-2025  13:34               780 Untitled11.ipynb\n",
      "20-09-2025  18:35             3,556 Untitled12.ipynb\n",
      "20-09-2025  19:43               617 Untitled13.ipynb\n",
      "21-09-2025  11:20               911 Untitled14.ipynb\n",
      "04-10-2025  19:42               337 Untitled15.ipynb\n",
      "08-08-2025  12:47               617 Untitled2.ipynb\n",
      "08-08-2025  18:33               617 Untitled3.ipynb\n",
      "12-08-2025  19:49               617 Untitled4.ipynb\n",
      "13-08-2025  20:25             4,338 Untitled5.ipynb\n",
      "21-08-2025  13:31             4,814 Untitled6.ipynb\n",
      "25-08-2025  19:54               617 Untitled7.ipynb\n",
      "10-09-2025  20:43             2,286 Untitled8.ipynb\n",
      "11-09-2025  11:58             1,094 Untitled9.ipynb\n",
      "18-03-2024  09:50    <DIR>          Videos\n",
      "              60 File(s)      6,510,365 bytes\n",
      "              52 Dir(s)  64,555,433,984 bytes free\n"
     ]
    }
   ],
   "source": [
    "ls"
   ]
  },
  {
   "cell_type": "code",
   "execution_count": 2,
   "id": "8ae4ca5f-8213-4f45-9e17-1a4206134921",
   "metadata": {},
   "outputs": [
    {
     "name": "stdout",
     "output_type": "stream",
     "text": [
      " Volume in drive C is Windows\n",
      " Volume Serial Number is 7CD5-0C3F\n",
      "\n",
      " Directory of C:\\Users\\HP\n",
      "\n",
      "04-10-2025  19:43    <DIR>          .\n",
      "17-03-2024  21:16    <DIR>          ..\n",
      "21-09-2025  13:52    <DIR>          .conda\n",
      "23-04-2025  15:51               126 .gitconfig\n",
      "05-05-2024  21:25    <DIR>          .idlerc\n",
      "04-10-2025  19:43    <DIR>          .ipynb_checkpoints\n",
      "18-03-2025  10:14    <DIR>          .ipython\n",
      "10-09-2025  21:01    <DIR>          .jupyter\n",
      "23-04-2025  15:40    <DIR>          .matplotlib\n",
      "21-09-2025  13:54    <DIR>          .vscode\n",
      "15-07-2025  19:33    <DIR>          __pycache__\n",
      "16-06-2025  19:15            19,871 2nd Week.ipynb\n",
      "23-09-2025  20:10    <DIR>          704_Projects\n",
      "05-04-2025  19:56               665 about.html\n",
      "25-08-2025  20:37             6,881 Basiscs.ipynb\n",
      "16-06-2025  19:30             5,894 Conditional sat.ipynb\n",
      "18-03-2024  04:00    <DIR>          Contacts\n",
      "07-09-2025  14:02                47 demo1.java\n",
      "03-10-2025  18:09    <DIR>          Desktop\n",
      "23-09-2025  19:57         3,192,560 diamonds (2).csv\n",
      "25-09-2025  17:21    <DIR>          Documents\n",
      "03-10-2025  18:19    <DIR>          Downloads\n",
      "12-08-2025  20:40           149,733 EDA dy1.ipynb\n",
      "12-08-2025  19:55            12,762 EDAday2.ipynb\n",
      "15-08-2025  15:00         1,415,728 EDAday3.ipynb\n",
      "04-10-2025  19:38             7,227 exception hadling.ipynb\n",
      "18-03-2024  04:00    <DIR>          Favorites\n",
      "20-09-2025  19:32            12,573 Feature and scallingog.ipynb\n",
      "04-10-2025  19:43               617 file handling.ipynb\n",
      "31-07-2025  19:34            17,695 Functions.ipynb\n",
      "15-07-2025  19:33                90 functions.py\n",
      "17-03-2025  20:39                16 Goldpr.py\n",
      "15-07-2025  19:48               166 hello.py\n",
      "07-09-2025  14:00                51 Java pr.txt\n",
      "31-07-2025  19:37             9,065 libraries.ipynb\n",
      "20-09-2025  22:36            24,555 Linear Regression.ipynb\n",
      "18-03-2024  04:00    <DIR>          Links\n",
      "12-06-2025  19:55            22,026 List day2.ipynb\n",
      "04-10-2025  19:25           325,844 Loan sanction.ipynb\n",
      "12-09-2025  20:09           384,337 loan_approval_dataset (3).csv\n",
      "31-07-2025  19:52             8,673 logging.ipynb\n",
      "15-07-2025  18:26               160 logging.log\n",
      "20-09-2025  23:01    <DIR>          machine learning\n",
      "21-09-2025  11:28    <DIR>          Machine learning.854aae66-4c8a-4cbe-b0ed-063298db0adc\n",
      "20-09-2025  13:32    <DIR>          Machine Learning.faf7b511-1870-4e26-829f-e9eaf4bb3192\n",
      "08-04-2025  08:09    <DIR>          Microsoft\n",
      "21-09-2025  13:32    <DIR>          miniconda3\n",
      "16-09-2025  16:39            13,484 ml first.ipynb\n",
      "29-08-2025  19:42             3,933 mlday1.ipynb\n",
      "18-03-2024  04:00    <DIR>          Music\n",
      "15-07-2025  17:59             1,632 my_logs.log\n",
      "15-07-2025  20:51             1,490 mylog23.log\n",
      "15-07-2025  20:24               256 mylogfile.log\n",
      "18-07-2025  18:56    <DIR>          New folder\n",
      "10-09-2025  20:56    <DIR>          New folder (2)\n",
      "12-09-2025  20:19    <DIR>          New folder (3)\n",
      "21-09-2025  12:37    <DIR>          New folder (4)\n",
      "17-03-2025  20:47    <DIR>          OneDrive\n",
      "27-06-2025  19:39            13,870 OOP dy2.ipynb\n",
      "14-08-2025  13:06            12,486 OOPdy1.ipynb\n",
      "25-06-2025  20:41             8,289 OOPDy1.pynb\n",
      "24-07-2025  18:42           306,345 pandasdy1.ipynb\n",
      "31-07-2025  20:19           351,720 Pandasdy2.ipynb\n",
      "06-08-2025  14:06            93,048 pandasdy3.ipynb\n",
      "14-04-2025  10:40    <DIR>          Pictures\n",
      "05-04-2025  19:45               841 practice.html\n",
      "07-09-2025  14:01                47 Program1.java\n",
      "15-08-2024  16:05    <DIR>          pythonProject\n",
      "03-10-2025  18:11    <DIR>          pythonProject Harshali\n",
      "16-09-2024  10:53    <DIR>          pythonProject1\n",
      "10-03-2025  11:01    <DIR>          pythonProject10\n",
      "17-03-2025  19:35    <DIR>          pythonProject11\n",
      "17-03-2025  19:59    <DIR>          pythonProject12\n",
      "19-04-2025  20:00    <DIR>          pythonProject13\n",
      "19-04-2025  20:25    <DIR>          pythonProject14\n",
      "16-09-2024  11:11    <DIR>          pythonProject2\n",
      "16-09-2024  10:54    <DIR>          pythonProject2Lecture2\n",
      "16-09-2024  11:13    <DIR>          pythonProject3\n",
      "02-12-2024  20:23    <DIR>          pythonProject4\n",
      "07-12-2024  14:09    <DIR>          pythonProject5\n",
      "19-12-2024  14:40    <DIR>          pythonProject6\n",
      "08-01-2025  11:38    <DIR>          pythonProject7\n",
      "18-02-2025  13:57    <DIR>          pythonProject8\n",
      "28-02-2025  20:18    <DIR>          pythonProject9\n",
      "18-03-2024  04:00    <DIR>          Saved Games\n",
      "17-03-2024  21:16    <DIR>          Searches\n",
      "15-07-2025  19:30               190 testing.py\n",
      "15-07-2025  19:36               190 testings.py\n",
      "18-07-2025  18:44            60,302 titanic.csv\n",
      "18-03-2025  11:24    <DIR>          Untitled Folder\n",
      "29-08-2025  18:53    <DIR>          Untitled Folder 1\n",
      "20-09-2025  18:42    <DIR>          Untitled Folder 2\n",
      "06-08-2025  14:33             2,144 Untitled.ipynb\n",
      "13-08-2025  20:15                 0 untitled.py\n",
      "29-08-2025  18:50                 0 untitled.txt\n",
      "08-08-2025  12:00             1,198 Untitled1.ipynb\n",
      "20-09-2025  18:23                 0 untitled1.py\n",
      "11-09-2025  12:10               337 Untitled10.ipynb\n",
      "20-09-2025  13:34               780 Untitled11.ipynb\n",
      "20-09-2025  18:35             3,556 Untitled12.ipynb\n",
      "20-09-2025  19:43               617 Untitled13.ipynb\n",
      "21-09-2025  11:20               911 Untitled14.ipynb\n",
      "04-10-2025  19:42               337 Untitled15.ipynb\n",
      "08-08-2025  12:47               617 Untitled2.ipynb\n",
      "08-08-2025  18:33               617 Untitled3.ipynb\n",
      "12-08-2025  19:49               617 Untitled4.ipynb\n",
      "13-08-2025  20:25             4,338 Untitled5.ipynb\n",
      "21-08-2025  13:31             4,814 Untitled6.ipynb\n",
      "25-08-2025  19:54               617 Untitled7.ipynb\n",
      "10-09-2025  20:43             2,286 Untitled8.ipynb\n",
      "11-09-2025  11:58             1,094 Untitled9.ipynb\n",
      "18-03-2024  09:50    <DIR>          Videos\n",
      "              60 File(s)      6,510,365 bytes\n",
      "              52 Dir(s)  64,555,462,656 bytes free\n"
     ]
    }
   ],
   "source": [
    "%ls"
   ]
  },
  {
   "cell_type": "code",
   "execution_count": 3,
   "id": "66153957-394c-4deb-84b5-a441d159cc1c",
   "metadata": {},
   "outputs": [],
   "source": [
    "f = open('introduction.txt', mode = 'w')"
   ]
  },
  {
   "cell_type": "code",
   "execution_count": 5,
   "id": "64a1ba6d-d069-46f9-b9c2-70319e69c957",
   "metadata": {},
   "outputs": [
    {
     "name": "stdout",
     "output_type": "stream",
     "text": [
      "C:\\Users\\HP\n"
     ]
    }
   ],
   "source": [
    "cd"
   ]
  },
  {
   "cell_type": "code",
   "execution_count": 6,
   "id": "0c01f1a3-336a-48b9-817a-1369714678ab",
   "metadata": {},
   "outputs": [
    {
     "data": {
      "text/plain": [
       "56"
      ]
     },
     "execution_count": 6,
     "metadata": {},
     "output_type": "execute_result"
    }
   ],
   "source": [
    "f.write('Hello how are you my name is xyz and my education is xyz')"
   ]
  },
  {
   "cell_type": "code",
   "execution_count": 7,
   "id": "890eef05-32d0-4ffa-bb7c-5a5182df3c4d",
   "metadata": {},
   "outputs": [],
   "source": [
    "f.close()"
   ]
  },
  {
   "cell_type": "code",
   "execution_count": 8,
   "id": "a45eeea6-3b3e-4c01-8fda-9fcac3340adb",
   "metadata": {},
   "outputs": [],
   "source": [
    "# How to read file"
   ]
  },
  {
   "cell_type": "code",
   "execution_count": 9,
   "id": "6f89584d-28cf-4472-9e53-b431d9924ee1",
   "metadata": {},
   "outputs": [],
   "source": [
    "f = open('introduction.txt', mode = 'r')"
   ]
  },
  {
   "cell_type": "code",
   "execution_count": 10,
   "id": "3f8bc87a-0cc3-430c-8c38-d35d2233b422",
   "metadata": {},
   "outputs": [
    {
     "data": {
      "text/plain": [
       "'Hello how are you my name is xyz and my education is xyz'"
      ]
     },
     "execution_count": 10,
     "metadata": {},
     "output_type": "execute_result"
    }
   ],
   "source": [
    "f.read()"
   ]
  },
  {
   "cell_type": "code",
   "execution_count": 11,
   "id": "e3e7595b-afc2-42c0-a29a-daa7fd7e8ede",
   "metadata": {},
   "outputs": [
    {
     "data": {
      "text/plain": [
       "''"
      ]
     },
     "execution_count": 11,
     "metadata": {},
     "output_type": "execute_result"
    }
   ],
   "source": [
    "f.read()"
   ]
  },
  {
   "cell_type": "code",
   "execution_count": 12,
   "id": "e2d0437e-490f-48c0-a6c6-5d79a5d6eca3",
   "metadata": {},
   "outputs": [
    {
     "data": {
      "text/plain": [
       "0"
      ]
     },
     "execution_count": 12,
     "metadata": {},
     "output_type": "execute_result"
    }
   ],
   "source": [
    "f.seek(0)"
   ]
  },
  {
   "cell_type": "code",
   "execution_count": 13,
   "id": "7c7c4afd-067b-4040-b26f-b8da4fb53fc7",
   "metadata": {},
   "outputs": [
    {
     "data": {
      "text/plain": [
       "'Hello how are you my name is xyz and my education is xyz'"
      ]
     },
     "execution_count": 13,
     "metadata": {},
     "output_type": "execute_result"
    }
   ],
   "source": [
    "\n",
    "f.read()"
   ]
  },
  {
   "cell_type": "code",
   "execution_count": 14,
   "id": "104aaaef-731b-4cfe-8e6b-bcea12abb6b7",
   "metadata": {},
   "outputs": [
    {
     "data": {
      "text/plain": [
       "7"
      ]
     },
     "execution_count": 14,
     "metadata": {},
     "output_type": "execute_result"
    }
   ],
   "source": [
    "f.seek(7)"
   ]
  },
  {
   "cell_type": "code",
   "execution_count": 15,
   "id": "b270e610-84e9-4d53-bd1c-2355c9aca62f",
   "metadata": {},
   "outputs": [
    {
     "data": {
      "text/plain": [
       "'ow are you my name is xyz and my education is xyz'"
      ]
     },
     "execution_count": 15,
     "metadata": {},
     "output_type": "execute_result"
    }
   ],
   "source": [
    "f.read()"
   ]
  },
  {
   "cell_type": "code",
   "execution_count": 16,
   "id": "89b63be5-d34c-44cf-8a30-50dd115b285b",
   "metadata": {},
   "outputs": [
    {
     "name": "stdout",
     "output_type": "stream",
     "text": [
      "This is my first line.\n",
      "This is my second line.\n",
      "This is my third line.\n"
     ]
    }
   ],
   "source": [
    "\n",
    "print('''This is my first line.\n",
    "This is my second line.\n",
    "This is my third line.''')"
   ]
  },
  {
   "cell_type": "code",
   "execution_count": 17,
   "id": "b238fa63-ead0-447c-ad91-edb00166e88a",
   "metadata": {},
   "outputs": [
    {
     "data": {
      "text/plain": [
       "'This is my first line.\\nThis is my second line.\\nThis is my third line.'"
      ]
     },
     "execution_count": 17,
     "metadata": {},
     "output_type": "execute_result"
    }
   ],
   "source": [
    "\n",
    "'''This is my first line.\n",
    "This is my second line.\n",
    "This is my third line.'''"
   ]
  },
  {
   "cell_type": "code",
   "execution_count": 19,
   "id": "303ed251-39c6-4892-a862-1b99c18cd61c",
   "metadata": {},
   "outputs": [],
   "source": [
    "\n",
    "f = open('sentences.txt', mode = 'w')"
   ]
  },
  {
   "cell_type": "code",
   "execution_count": 20,
   "id": "50668ab5-2b0e-436c-8af2-0a47ee1b44d3",
   "metadata": {},
   "outputs": [
    {
     "data": {
      "text/plain": [
       "69"
      ]
     },
     "execution_count": 20,
     "metadata": {},
     "output_type": "execute_result"
    }
   ],
   "source": [
    "\n",
    "f.write('''This is my first line.\n",
    "This is my second line.\n",
    "This is my third line.''')"
   ]
  },
  {
   "cell_type": "code",
   "execution_count": 21,
   "id": "fe132309-39d0-4fae-8018-55c43a8c9592",
   "metadata": {},
   "outputs": [],
   "source": [
    "f.close()"
   ]
  },
  {
   "cell_type": "code",
   "execution_count": 22,
   "id": "3da5085b-8622-4c1e-8c01-95f7510a274f",
   "metadata": {},
   "outputs": [],
   "source": [
    "\n",
    "f = open('sentences.txt', mode='r')"
   ]
  },
  {
   "cell_type": "code",
   "execution_count": 23,
   "id": "4914488b-543c-43e1-bbd6-f1d4d78d2228",
   "metadata": {},
   "outputs": [
    {
     "data": {
      "text/plain": [
       "'This is my first line.\\nThis is my second line.\\nThis is my third line.'"
      ]
     },
     "execution_count": 23,
     "metadata": {},
     "output_type": "execute_result"
    }
   ],
   "source": [
    "f.read()"
   ]
  },
  {
   "cell_type": "code",
   "execution_count": 24,
   "id": "98c52923-02ac-4d24-90f0-54c2f7cbb6d4",
   "metadata": {},
   "outputs": [
    {
     "data": {
      "text/plain": [
       "0"
      ]
     },
     "execution_count": 24,
     "metadata": {},
     "output_type": "execute_result"
    }
   ],
   "source": [
    "f.seek(0)"
   ]
  },
  {
   "cell_type": "code",
   "execution_count": 25,
   "id": "b3388f11-01a6-4746-b631-4c808aea7b4c",
   "metadata": {},
   "outputs": [
    {
     "data": {
      "text/plain": [
       "'This is my first line.\\n'"
      ]
     },
     "execution_count": 25,
     "metadata": {},
     "output_type": "execute_result"
    }
   ],
   "source": [
    "f.readline()"
   ]
  },
  {
   "cell_type": "code",
   "execution_count": 26,
   "id": "f49d0f2c-04fd-4d27-b7f3-2089e7239e11",
   "metadata": {},
   "outputs": [
    {
     "data": {
      "text/plain": [
       "'This is my second line.\\n'"
      ]
     },
     "execution_count": 26,
     "metadata": {},
     "output_type": "execute_result"
    }
   ],
   "source": [
    "f.readline()"
   ]
  },
  {
   "cell_type": "code",
   "execution_count": 27,
   "id": "6fcdb79c-bda4-4f91-9232-5be028b6da65",
   "metadata": {},
   "outputs": [
    {
     "data": {
      "text/plain": [
       "0"
      ]
     },
     "execution_count": 27,
     "metadata": {},
     "output_type": "execute_result"
    }
   ],
   "source": [
    "f.seek(0)"
   ]
  },
  {
   "cell_type": "code",
   "execution_count": 28,
   "id": "7519fd7a-7dc9-4e52-a71a-6c603cca8d86",
   "metadata": {},
   "outputs": [
    {
     "data": {
      "text/plain": [
       "['This is my first line.\\n',\n",
       " 'This is my second line.\\n',\n",
       " 'This is my third line.']"
      ]
     },
     "execution_count": 28,
     "metadata": {},
     "output_type": "execute_result"
    }
   ],
   "source": [
    "f.readlines()"
   ]
  },
  {
   "cell_type": "code",
   "execution_count": 29,
   "id": "e11ee62c-4f53-445d-8ae1-8bae7fbfa3a2",
   "metadata": {},
   "outputs": [],
   "source": [
    "\n",
    "f = open('multiple_lines.txt', mode = 'w')"
   ]
  },
  {
   "cell_type": "code",
   "execution_count": 30,
   "id": "b89019fa-be4e-462f-8908-b1899bf0858a",
   "metadata": {},
   "outputs": [
    {
     "data": {
      "text/plain": [
       "291"
      ]
     },
     "execution_count": 30,
     "metadata": {},
     "output_type": "execute_result"
    }
   ],
   "source": [
    "\n",
    "f.write('''The ceasefire between Iran and Israel is in effect. \n",
    "and Israel is not going to attack Iran, Donald Trump declared on Tuesday.\n",
    "All planes will turn around and head home, while doing a friendly.\n",
    "PRESIDENT OF THE UNITED STATES.\n",
    "All planes will turn around and head home, while doing a friendly''')"
   ]
  },
  {
   "cell_type": "code",
   "execution_count": 31,
   "id": "e8513bff-6905-4b71-ac2d-a24967031106",
   "metadata": {},
   "outputs": [],
   "source": [
    "f.close()"
   ]
  },
  {
   "cell_type": "code",
   "execution_count": 32,
   "id": "8379fcbe-04bf-4f13-91a3-6111ebef62ae",
   "metadata": {},
   "outputs": [],
   "source": [
    "\n",
    "f = open('multiple_lines.txt', mode = 'r+')"
   ]
  },
  {
   "cell_type": "code",
   "execution_count": 33,
   "id": "cc2aa789-9e95-4940-af3b-9279bd996e24",
   "metadata": {},
   "outputs": [
    {
     "data": {
      "text/plain": [
       "'The ceasefire between Iran and Israel is in effect. \\n'"
      ]
     },
     "execution_count": 33,
     "metadata": {},
     "output_type": "execute_result"
    }
   ],
   "source": [
    "\n",
    "f.readline()"
   ]
  },
  {
   "cell_type": "code",
   "execution_count": 34,
   "id": "55fd1ae9-0324-4136-9e07-80a267c41115",
   "metadata": {},
   "outputs": [
    {
     "data": {
      "text/plain": [
       "0"
      ]
     },
     "execution_count": 34,
     "metadata": {},
     "output_type": "execute_result"
    }
   ],
   "source": [
    "\n",
    "f.seek(0)"
   ]
  },
  {
   "cell_type": "code",
   "execution_count": 35,
   "id": "7e085cd8-a4e1-451f-8e6a-dc2e3b7d43e6",
   "metadata": {},
   "outputs": [
    {
     "data": {
      "text/plain": [
       "['The ceasefire between Iran and Israel is in effect. \\n',\n",
       " 'and Israel is not going to attack Iran, Donald Trump declared on Tuesday.\\n',\n",
       " 'All planes will turn around and head home, while doing a friendly.\\n',\n",
       " 'PRESIDENT OF THE UNITED STATES.\\n',\n",
       " 'All planes will turn around and head home, while doing a friendly']"
      ]
     },
     "execution_count": 35,
     "metadata": {},
     "output_type": "execute_result"
    }
   ],
   "source": [
    "\n",
    "f.readlines()"
   ]
  },
  {
   "cell_type": "code",
   "execution_count": 36,
   "id": "47eecaf9-3239-4fff-a8ba-8d6f5da32f10",
   "metadata": {},
   "outputs": [
    {
     "data": {
      "text/plain": [
       "0"
      ]
     },
     "execution_count": 36,
     "metadata": {},
     "output_type": "execute_result"
    }
   ],
   "source": [
    "\n",
    "f.seek(0)"
   ]
  },
  {
   "cell_type": "code",
   "execution_count": 37,
   "id": "bfc60f7e-21af-45ba-8a5e-247a5e44212c",
   "metadata": {},
   "outputs": [
    {
     "name": "stdout",
     "output_type": "stream",
     "text": [
      "The ceasefire between Iran and Israel is in effect. \n",
      "\n",
      "--------------------------------------------------------------------------------\n",
      "and Israel is not going to attack Iran, Donald Trump declared on Tuesday.\n",
      "\n",
      "--------------------------------------------------------------------------------\n",
      "All planes will turn around and head home, while doing a friendly.\n",
      "\n",
      "--------------------------------------------------------------------------------\n",
      "PRESIDENT OF THE UNITED STATES.\n",
      "\n",
      "--------------------------------------------------------------------------------\n",
      "All planes will turn around and head home, while doing a friendly\n",
      "--------------------------------------------------------------------------------\n"
     ]
    }
   ],
   "source": [
    "for sentence in f.readlines():\n",
    "    print(sentence)\n",
    "    print('-' * 80)"
   ]
  },
  {
   "cell_type": "code",
   "execution_count": 38,
   "id": "b34758de-b8dd-4cde-99c0-4e399c66a7d0",
   "metadata": {},
   "outputs": [
    {
     "data": {
      "text/plain": [
       "['The', 'ceasefire', 'between', 'Iran', 'and', 'Israel', 'is', 'in', 'effect']"
      ]
     },
     "execution_count": 38,
     "metadata": {},
     "output_type": "execute_result"
    }
   ],
   "source": [
    "\n",
    "'The ceasefire between Iran and Israel is in effect'.split(' ')"
   ]
  },
  {
   "cell_type": "code",
   "execution_count": 39,
   "id": "31904415-0bdc-45bf-9714-aa4093d073d7",
   "metadata": {},
   "outputs": [
    {
     "data": {
      "text/plain": [
       "0"
      ]
     },
     "execution_count": 39,
     "metadata": {},
     "output_type": "execute_result"
    }
   ],
   "source": [
    "\n",
    "f.seek(0)"
   ]
  },
  {
   "cell_type": "code",
   "execution_count": 40,
   "id": "a6eeb5d0-2097-4c0f-8e33-45b9620b99d3",
   "metadata": {},
   "outputs": [],
   "source": [
    "l=[]"
   ]
  },
  {
   "cell_type": "code",
   "execution_count": 41,
   "id": "cded77ab-69e1-454f-bb4f-72b4f0534e00",
   "metadata": {},
   "outputs": [
    {
     "name": "stdout",
     "output_type": "stream",
     "text": [
      "The\n",
      "ceasefire\n",
      "between\n",
      "Iran\n",
      "and\n",
      "Israel\n",
      "is\n",
      "in\n",
      "effect.\n",
      "\n",
      "\n",
      "and\n",
      "Israel\n",
      "is\n",
      "not\n",
      "going\n",
      "to\n",
      "attack\n",
      "Iran,\n",
      "Donald\n",
      "Trump\n",
      "declared\n",
      "on\n",
      "Tuesday.\n",
      "\n",
      "All\n",
      "planes\n",
      "will\n",
      "turn\n",
      "around\n",
      "and\n",
      "head\n",
      "home,\n",
      "while\n",
      "doing\n",
      "a\n",
      "friendly.\n",
      "\n",
      "PRESIDENT\n",
      "OF\n",
      "THE\n",
      "UNITED\n",
      "STATES.\n",
      "\n",
      "All\n",
      "planes\n",
      "will\n",
      "turn\n",
      "around\n",
      "and\n",
      "head\n",
      "home,\n",
      "while\n",
      "doing\n",
      "a\n",
      "friendly\n"
     ]
    }
   ],
   "source": [
    "\n",
    "for sentence in f.readlines():\n",
    "    for words in sentence.split(' '):\n",
    "        l.append(words)\n",
    "        print(words)"
   ]
  },
  {
   "cell_type": "code",
   "execution_count": 42,
   "id": "4f336385-72ab-45a8-b2bb-394801469802",
   "metadata": {},
   "outputs": [
    {
     "data": {
      "text/plain": [
       "2"
      ]
     },
     "execution_count": 42,
     "metadata": {},
     "output_type": "execute_result"
    }
   ],
   "source": [
    "l.count('is')"
   ]
  },
  {
   "cell_type": "code",
   "execution_count": 43,
   "id": "49dd4c13-bdfd-4fc6-bcaa-0826acab429f",
   "metadata": {},
   "outputs": [
    {
     "name": "stdout",
     "output_type": "stream",
     "text": [
      "T\n",
      "h\n",
      "e\n",
      "c\n",
      "e\n",
      "a\n",
      "s\n",
      "e\n",
      "f\n",
      "i\n",
      "r\n",
      "e\n",
      "b\n",
      "e\n",
      "t\n",
      "w\n",
      "e\n",
      "e\n",
      "n\n",
      "I\n",
      "r\n",
      "a\n",
      "n\n",
      "a\n",
      "n\n",
      "d\n",
      "I\n",
      "s\n",
      "r\n",
      "a\n",
      "e\n",
      "l\n",
      "i\n",
      "s\n",
      "i\n",
      "n\n",
      "e\n",
      "f\n",
      "f\n",
      "e\n",
      "c\n",
      "t\n",
      ".\n",
      "\n",
      "\n",
      "a\n",
      "n\n",
      "d\n",
      "I\n",
      "s\n",
      "r\n",
      "a\n",
      "e\n",
      "l\n",
      "i\n",
      "s\n",
      "n\n",
      "o\n",
      "t\n",
      "g\n",
      "o\n",
      "i\n",
      "n\n",
      "g\n",
      "t\n",
      "o\n",
      "a\n",
      "t\n",
      "t\n",
      "a\n",
      "c\n",
      "k\n",
      "I\n",
      "r\n",
      "a\n",
      "n\n",
      ",\n",
      "D\n",
      "o\n",
      "n\n",
      "a\n",
      "l\n",
      "d\n",
      "T\n",
      "r\n",
      "u\n",
      "m\n",
      "p\n",
      "d\n",
      "e\n",
      "c\n",
      "l\n",
      "a\n",
      "r\n",
      "e\n",
      "d\n",
      "o\n",
      "n\n",
      "T\n",
      "u\n",
      "e\n",
      "s\n",
      "d\n",
      "a\n",
      "y\n",
      ".\n",
      "\n",
      "\n",
      "A\n",
      "l\n",
      "l\n",
      "p\n",
      "l\n",
      "a\n",
      "n\n",
      "e\n",
      "s\n",
      "w\n",
      "i\n",
      "l\n",
      "l\n",
      "t\n",
      "u\n",
      "r\n",
      "n\n",
      "a\n",
      "r\n",
      "o\n",
      "u\n",
      "n\n",
      "d\n",
      "a\n",
      "n\n",
      "d\n",
      "h\n",
      "e\n",
      "a\n",
      "d\n",
      "h\n",
      "o\n",
      "m\n",
      "e\n",
      ",\n",
      "w\n",
      "h\n",
      "i\n",
      "l\n",
      "e\n",
      "d\n",
      "o\n",
      "i\n",
      "n\n",
      "g\n",
      "a\n",
      "f\n",
      "r\n",
      "i\n",
      "e\n",
      "n\n",
      "d\n",
      "l\n",
      "y\n",
      ".\n",
      "\n",
      "\n",
      "P\n",
      "R\n",
      "E\n",
      "S\n",
      "I\n",
      "D\n",
      "E\n",
      "N\n",
      "T\n",
      "O\n",
      "F\n",
      "T\n",
      "H\n",
      "E\n",
      "U\n",
      "N\n",
      "I\n",
      "T\n",
      "E\n",
      "D\n",
      "S\n",
      "T\n",
      "A\n",
      "T\n",
      "E\n",
      "S\n",
      ".\n",
      "\n",
      "\n",
      "A\n",
      "l\n",
      "l\n",
      "p\n",
      "l\n",
      "a\n",
      "n\n",
      "e\n",
      "s\n",
      "w\n",
      "i\n",
      "l\n",
      "l\n",
      "t\n",
      "u\n",
      "r\n",
      "n\n",
      "a\n",
      "r\n",
      "o\n",
      "u\n",
      "n\n",
      "d\n",
      "a\n",
      "n\n",
      "d\n",
      "h\n",
      "e\n",
      "a\n",
      "d\n",
      "h\n",
      "o\n",
      "m\n",
      "e\n",
      ",\n",
      "w\n",
      "h\n",
      "i\n",
      "l\n",
      "e\n",
      "d\n",
      "o\n",
      "i\n",
      "n\n",
      "g\n",
      "a\n",
      "f\n",
      "r\n",
      "i\n",
      "e\n",
      "n\n",
      "d\n",
      "l\n",
      "y\n"
     ]
    }
   ],
   "source": [
    "\n",
    "for i in l:\n",
    "    for char in i:\n",
    "        print(char)"
   ]
  },
  {
   "cell_type": "code",
   "execution_count": 44,
   "id": "26383093-62b0-4a59-a6df-96b4b349e43b",
   "metadata": {},
   "outputs": [
    {
     "data": {
      "text/plain": [
       "<function TextIOWrapper.close()>"
      ]
     },
     "execution_count": 44,
     "metadata": {},
     "output_type": "execute_result"
    }
   ],
   "source": [
    "f.close"
   ]
  },
  {
   "cell_type": "code",
   "execution_count": 45,
   "id": "f31d6aec-ab82-46ef-8568-3ec86554185c",
   "metadata": {},
   "outputs": [],
   "source": [
    "#how to create python file by using file handling"
   ]
  },
  {
   "cell_type": "code",
   "execution_count": 46,
   "id": "b274f3c0-494d-4465-9bd7-ed1db76d0ecf",
   "metadata": {},
   "outputs": [],
   "source": [
    "f= open('my_python.py', mode = 'w')"
   ]
  },
  {
   "cell_type": "code",
   "execution_count": 47,
   "id": "1f0593d3-fe0b-4c3d-8228-040e8c4b5406",
   "metadata": {},
   "outputs": [
    {
     "data": {
      "text/plain": [
       "92"
      ]
     },
     "execution_count": 47,
     "metadata": {},
     "output_type": "execute_result"
    }
   ],
   "source": [
    "f.write('''# I am writing some function\n",
    "def square(a):\n",
    "    return a * a\n",
    "    \n",
    "def add(a,b):\n",
    "    return a + b''')\n"
   ]
  },
  {
   "cell_type": "code",
   "execution_count": 48,
   "id": "0f90721c-a8e2-418f-b4c0-4b4930cde8d6",
   "metadata": {},
   "outputs": [],
   "source": [
    "f.close()"
   ]
  },
  {
   "cell_type": "code",
   "execution_count": 49,
   "id": "03c76640-deee-4430-9484-004ed49b3a71",
   "metadata": {},
   "outputs": [
    {
     "ename": "SyntaxError",
     "evalue": "invalid syntax (4122070299.py, line 2)",
     "output_type": "error",
     "traceback": [
      "  \u001b[36mCell\u001b[39m\u001b[36m \u001b[39m\u001b[32mIn[49]\u001b[39m\u001b[32m, line 2\u001b[39m\n\u001b[31m    \u001b[39m\u001b[31m--> Read singlle line\u001b[39m\n     ^\n\u001b[31mSyntaxError\u001b[39m\u001b[31m:\u001b[39m invalid syntax\n"
     ]
    }
   ],
   "source": []
  },
  {
   "cell_type": "code",
   "execution_count": null,
   "id": "7e6aa8aa-805f-4314-bf32-f38168ae0f7c",
   "metadata": {},
   "outputs": [],
   "source": []
  }
 ],
 "metadata": {
  "kernelspec": {
   "display_name": "Python 3 (ipykernel)",
   "language": "python",
   "name": "python3"
  },
  "language_info": {
   "codemirror_mode": {
    "name": "ipython",
    "version": 3
   },
   "file_extension": ".py",
   "mimetype": "text/x-python",
   "name": "python",
   "nbconvert_exporter": "python",
   "pygments_lexer": "ipython3",
   "version": "3.13.2"
  }
 },
 "nbformat": 4,
 "nbformat_minor": 5
}
